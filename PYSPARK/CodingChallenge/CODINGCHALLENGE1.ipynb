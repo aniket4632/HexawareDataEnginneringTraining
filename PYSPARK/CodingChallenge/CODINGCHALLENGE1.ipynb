{
 "cells": [
  {
   "cell_type": "markdown",
   "metadata": {
    "application/vnd.databricks.v1+cell": {
     "cellMetadata": {},
     "inputWidgets": {},
     "nuid": "ac7a3c4e-c618-45f9-bc1f-c9634fbf486e",
     "showTitle": false,
     "title": ""
    }
   },
   "source": [
    "# Manipulating, Droping, Sorting, Aggregations, Joining, GroupBy  DataFrame"
   ]
  },
  {
   "cell_type": "code",
   "execution_count": 0,
   "metadata": {
    "application/vnd.databricks.v1+cell": {
     "cellMetadata": {
      "byteLimit": 2048000,
      "rowLimit": 10000
     },
     "inputWidgets": {},
     "nuid": "7cbe472e-7f4a-418d-8592-4fee29781be6",
     "showTitle": false,
     "title": ""
    }
   },
   "outputs": [],
   "source": [
    "from pyspark.sql import SparkSession\n"
   ]
  },
  {
   "cell_type": "code",
   "execution_count": 0,
   "metadata": {
    "application/vnd.databricks.v1+cell": {
     "cellMetadata": {
      "byteLimit": 2048000,
      "rowLimit": 10000
     },
     "inputWidgets": {},
     "nuid": "cb9b7c9c-b41c-442c-9f1c-18a2924a342e",
     "showTitle": false,
     "title": ""
    }
   },
   "outputs": [],
   "source": [
    "spark = SparkSession.builder \\\n",
    "    .appName(\"DataFrame Coding challenge\") \\\n",
    "    .getOrCreate()"
   ]
  },
  {
   "cell_type": "code",
   "execution_count": 0,
   "metadata": {
    "application/vnd.databricks.v1+cell": {
     "cellMetadata": {
      "byteLimit": 2048000,
      "rowLimit": 10000
     },
     "inputWidgets": {},
     "nuid": "2640ce9b-56aa-412a-80d6-cd25be903486",
     "showTitle": false,
     "title": ""
    }
   },
   "outputs": [],
   "source": [
    "data = [(\"John\", \"Doe\", 28),\n",
    "        (\"Jane\", \"Smith\", 35),\n",
    "        (\"Bob\", \"Johnson\", 40),\n",
    "        (\"Alice\", \"Williams\", 30)]\n",
    "columns = [\"First_Name\", \"Last_Name\", \"Age\"]\n",
    "df = spark.createDataFrame(data, columns)"
   ]
  },
  {
   "cell_type": "code",
   "execution_count": 0,
   "metadata": {
    "application/vnd.databricks.v1+cell": {
     "cellMetadata": {
      "byteLimit": 2048000,
      "rowLimit": 10000
     },
     "inputWidgets": {},
     "nuid": "8d2d55f6-6477-4116-bc18-3ad64e31ec3a",
     "showTitle": false,
     "title": ""
    }
   },
   "outputs": [
    {
     "output_type": "stream",
     "name": "stdout",
     "output_type": "stream",
     "text": [
      "Original DataFrame:\n+----------+---------+---+\n|First_Name|Last_Name|Age|\n+----------+---------+---+\n|      John|      Doe| 28|\n|      Jane|    Smith| 35|\n|       Bob|  Johnson| 40|\n|     Alice| Williams| 30|\n+----------+---------+---+\n\n"
     ]
    }
   ],
   "source": [
    "print(\"Original DataFrame:\")\n",
    "df.show()"
   ]
  },
  {
   "cell_type": "markdown",
   "metadata": {
    "application/vnd.databricks.v1+cell": {
     "cellMetadata": {},
     "inputWidgets": {},
     "nuid": "e635db0a-fa0b-42cc-bf3e-b20aa1285f0e",
     "showTitle": false,
     "title": ""
    }
   },
   "source": [
    "# Manipulating data"
   ]
  },
  {
   "cell_type": "code",
   "execution_count": 0,
   "metadata": {
    "application/vnd.databricks.v1+cell": {
     "cellMetadata": {
      "byteLimit": 2048000,
      "rowLimit": 10000
     },
     "inputWidgets": {},
     "nuid": "611d798f-c367-42eb-9679-c460afb0a0d8",
     "showTitle": false,
     "title": ""
    }
   },
   "outputs": [],
   "source": [
    "from pyspark.sql.functions import col"
   ]
  },
  {
   "cell_type": "code",
   "execution_count": 0,
   "metadata": {
    "application/vnd.databricks.v1+cell": {
     "cellMetadata": {
      "byteLimit": 2048000,
      "rowLimit": 10000
     },
     "inputWidgets": {},
     "nuid": "4eb1dc4f-8abe-47b5-bbd8-aa86ad0a6d21",
     "showTitle": false,
     "title": ""
    }
   },
   "outputs": [],
   "source": [
    "df = df.withColumn(\"Full_Name\", col(\"First_Name\") + \" \" + col(\"Last_Name\"))"
   ]
  },
  {
   "cell_type": "code",
   "execution_count": 0,
   "metadata": {
    "application/vnd.databricks.v1+cell": {
     "cellMetadata": {
      "byteLimit": 2048000,
      "rowLimit": 10000
     },
     "inputWidgets": {},
     "nuid": "96d7bf9d-ac7f-4fda-b97c-cd79e35b4651",
     "showTitle": false,
     "title": ""
    }
   },
   "outputs": [
    {
     "output_type": "stream",
     "name": "stdout",
     "output_type": "stream",
     "text": [
      "+----------+---------+---+---------+\n|First_Name|Last_Name|Age|Full_Name|\n+----------+---------+---+---------+\n|      John|      Doe| 28|     NULL|\n|      Jane|    Smith| 35|     NULL|\n|       Bob|  Johnson| 40|     NULL|\n|     Alice| Williams| 30|     NULL|\n+----------+---------+---+---------+\n\n"
     ]
    }
   ],
   "source": [
    "df.show()"
   ]
  },
  {
   "cell_type": "markdown",
   "metadata": {
    "application/vnd.databricks.v1+cell": {
     "cellMetadata": {},
     "inputWidgets": {},
     "nuid": "5dc11f4b-e7a0-49cf-93c6-1a421f17dc7a",
     "showTitle": false,
     "title": ""
    }
   },
   "source": [
    "# Dropping columns"
   ]
  },
  {
   "cell_type": "code",
   "execution_count": 0,
   "metadata": {
    "application/vnd.databricks.v1+cell": {
     "cellMetadata": {
      "byteLimit": 2048000,
      "rowLimit": 10000
     },
     "inputWidgets": {},
     "nuid": "4ed74436-cfb1-41ff-a6d1-620a6ced6ed8",
     "showTitle": false,
     "title": ""
    }
   },
   "outputs": [
    {
     "output_type": "stream",
     "name": "stdout",
     "output_type": "stream",
     "text": [
      "+----------+---------+---+\n|First_Name|Last_Name|Age|\n+----------+---------+---+\n|      John|      Doe| 28|\n|      Jane|    Smith| 35|\n|       Bob|  Johnson| 40|\n|     Alice| Williams| 30|\n+----------+---------+---+\n\n"
     ]
    }
   ],
   "source": [
    "df = df.drop(\"Full_Name\")\n",
    "df.show()"
   ]
  },
  {
   "cell_type": "markdown",
   "metadata": {
    "application/vnd.databricks.v1+cell": {
     "cellMetadata": {
      "byteLimit": 2048000,
      "rowLimit": 10000
     },
     "inputWidgets": {},
     "nuid": "86eafe40-dbd8-4f46-a999-cc894d4db847",
     "showTitle": false,
     "title": ""
    }
   },
   "source": [
    "# Sorting DataFrame by Age in descending order\n"
   ]
  },
  {
   "cell_type": "code",
   "execution_count": 0,
   "metadata": {
    "application/vnd.databricks.v1+cell": {
     "cellMetadata": {
      "byteLimit": 2048000,
      "rowLimit": 10000
     },
     "inputWidgets": {},
     "nuid": "b2c32d2f-bf64-4eab-8078-6263b0ecc115",
     "showTitle": false,
     "title": ""
    }
   },
   "outputs": [
    {
     "output_type": "stream",
     "name": "stdout",
     "output_type": "stream",
     "text": [
      "+----------+---------+---+\n|First_Name|Last_Name|Age|\n+----------+---------+---+\n|       Bob|  Johnson| 40|\n|      Jane|    Smith| 35|\n|     Alice| Williams| 30|\n|      John|      Doe| 28|\n+----------+---------+---+\n\n"
     ]
    }
   ],
   "source": [
    "df = df.orderBy(col(\"Age\").desc()).show()"
   ]
  },
  {
   "cell_type": "markdown",
   "metadata": {
    "application/vnd.databricks.v1+cell": {
     "cellMetadata": {},
     "inputWidgets": {},
     "nuid": "20aa23a0-8b34-4f9f-941c-ee6990082bbb",
     "showTitle": false,
     "title": ""
    }
   },
   "source": [
    "# Joining the DataFrame "
   ]
  },
  {
   "cell_type": "code",
   "execution_count": 0,
   "metadata": {
    "application/vnd.databricks.v1+cell": {
     "cellMetadata": {
      "byteLimit": 2048000,
      "rowLimit": 10000
     },
     "inputWidgets": {},
     "nuid": "b8fb43f6-1334-4a46-bb84-90d550f70c3e",
     "showTitle": false,
     "title": ""
    }
   },
   "outputs": [
    {
     "output_type": "stream",
     "name": "stdout",
     "output_type": "stream",
     "text": [
      "\nSecond DataFrame:\n+----------+------+\n|First_Name|Salary|\n+----------+------+\n|      John|  1000|\n|      Jane|  2000|\n|       Bob|  1500|\n|     Alice|  3000|\n+----------+------+\n\n"
     ]
    }
   ],
   "source": [
    "data2 = [(\"John\", 1000),\n",
    "         (\"Jane\", 2000),\n",
    "         (\"Bob\", 1500),\n",
    "         (\"Alice\", 3000)]\n",
    "columns2 = [\"First_Name\", \"Salary\"]\n",
    "df2 = spark.createDataFrame(data2, columns2)\n",
    "\n",
    "print(\"\\nSecond DataFrame:\")\n",
    "df2.show()\n",
    "\n"
   ]
  },
  {
   "cell_type": "code",
   "execution_count": 0,
   "metadata": {
    "application/vnd.databricks.v1+cell": {
     "cellMetadata": {
      "byteLimit": 2048000,
      "rowLimit": 10000
     },
     "inputWidgets": {},
     "nuid": "94dbe956-25fb-4807-94c2-ee9837def3cf",
     "showTitle": false,
     "title": ""
    }
   },
   "outputs": [],
   "source": [
    "joined_df = df.join(df2, on=\"First_Name\", how=\"inner\")\n"
   ]
  },
  {
   "cell_type": "code",
   "execution_count": 0,
   "metadata": {
    "application/vnd.databricks.v1+cell": {
     "cellMetadata": {
      "byteLimit": 2048000,
      "rowLimit": 10000
     },
     "inputWidgets": {},
     "nuid": "67439bfe-df0a-4b67-b559-53380e32b119",
     "showTitle": false,
     "title": ""
    }
   },
   "outputs": [
    {
     "output_type": "stream",
     "name": "stdout",
     "output_type": "stream",
     "text": [
      "\nJoined DataFrame with another DataFrame:\n+----------+---------+---+------+\n|First_Name|Last_Name|Age|Salary|\n+----------+---------+---+------+\n|     Alice| Williams| 30|  3000|\n|       Bob|  Johnson| 40|  1500|\n|      Jane|    Smith| 35|  2000|\n|      John|      Doe| 28|  1000|\n+----------+---------+---+------+\n\n"
     ]
    }
   ],
   "source": [
    "print(\"\\nJoined DataFrame with another DataFrame:\")\n",
    "joined_df.show()"
   ]
  },
  {
   "cell_type": "markdown",
   "metadata": {
    "application/vnd.databricks.v1+cell": {
     "cellMetadata": {},
     "inputWidgets": {},
     "nuid": "8a33b412-aa0f-4515-ac7c-a66581b831ac",
     "showTitle": false,
     "title": ""
    }
   },
   "source": [
    "# Aggregations\n"
   ]
  },
  {
   "cell_type": "code",
   "execution_count": 0,
   "metadata": {
    "application/vnd.databricks.v1+cell": {
     "cellMetadata": {
      "byteLimit": 2048000,
      "rowLimit": 10000
     },
     "inputWidgets": {},
     "nuid": "8edbd8e9-0e5b-4147-bb90-d153131d1a23",
     "showTitle": false,
     "title": ""
    }
   },
   "outputs": [],
   "source": [
    "average_age = df.agg({\"Age\": \"avg\"}).collect()[0][0]"
   ]
  },
  {
   "cell_type": "code",
   "execution_count": 0,
   "metadata": {
    "application/vnd.databricks.v1+cell": {
     "cellMetadata": {
      "byteLimit": 2048000,
      "rowLimit": 10000
     },
     "inputWidgets": {},
     "nuid": "ee5b3573-f3ee-4064-9fff-52dbf4f04499",
     "showTitle": false,
     "title": ""
    }
   },
   "outputs": [
    {
     "output_type": "execute_result",
     "data": {
      "text/plain": [
       "33.25"
      ]
     },
     "execution_count": 44,
     "metadata": {},
     "output_type": "execute_result"
    }
   ],
   "source": [
    "average_age"
   ]
  },
  {
   "cell_type": "markdown",
   "metadata": {
    "application/vnd.databricks.v1+cell": {
     "cellMetadata": {},
     "inputWidgets": {},
     "nuid": "b540362a-07e5-431a-9044-74a274211728",
     "showTitle": false,
     "title": ""
    }
   },
   "source": [
    "# Grouping by Age and counting occurrences\n"
   ]
  },
  {
   "cell_type": "code",
   "execution_count": 0,
   "metadata": {
    "application/vnd.databricks.v1+cell": {
     "cellMetadata": {
      "byteLimit": 2048000,
      "rowLimit": 10000
     },
     "inputWidgets": {},
     "nuid": "4782bd4f-d444-4b01-a734-45b726144b80",
     "showTitle": false,
     "title": ""
    }
   },
   "outputs": [],
   "source": [
    "grouped_df = df.groupBy(\"Age\").count()"
   ]
  },
  {
   "cell_type": "code",
   "execution_count": 0,
   "metadata": {
    "application/vnd.databricks.v1+cell": {
     "cellMetadata": {
      "byteLimit": 2048000,
      "rowLimit": 10000
     },
     "inputWidgets": {},
     "nuid": "b004e038-d016-49de-b888-4eef7434dc5a",
     "showTitle": false,
     "title": ""
    }
   },
   "outputs": [
    {
     "output_type": "stream",
     "name": "stdout",
     "output_type": "stream",
     "text": [
      "+---+-----+\n|Age|count|\n+---+-----+\n| 28|    1|\n| 35|    1|\n| 40|    1|\n| 30|    1|\n+---+-----+\n\n"
     ]
    }
   ],
   "source": [
    "grouped_df.show()"
   ]
  }
 ],
 "metadata": {
  "application/vnd.databricks.v1+notebook": {
   "dashboards": [],
   "language": "python",
   "notebookMetadata": {
    "pythonIndentUnit": 4
   },
   "notebookName": "CODINGCHALLENGE1",
   "widgets": {}
  }
 },
 "nbformat": 4,
 "nbformat_minor": 0
}
