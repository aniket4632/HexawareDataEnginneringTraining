{
 "cells": [
  {
   "cell_type": "markdown",
   "metadata": {
    "application/vnd.databricks.v1+cell": {
     "cellMetadata": {},
     "inputWidgets": {},
     "nuid": "46fb0e44-3aed-401e-8b24-16ed4f4d8dc6",
     "showTitle": false,
     "title": ""
    }
   },
   "source": [
    "# Execute Pyspark -sparksql joins & Applying Functions in a Pandas DataFrame\n",
    "\n"
   ]
  },
  {
   "cell_type": "markdown",
   "metadata": {
    "application/vnd.databricks.v1+cell": {
     "cellMetadata": {
      "byteLimit": 2048000,
      "rowLimit": 10000
     },
     "inputWidgets": {},
     "nuid": "6fd0cd42-8228-47df-8eab-07c07c4b3d54",
     "showTitle": false,
     "title": ""
    }
   },
   "source": [
    "#Spark Sql Joins"
   ]
  },
  {
   "cell_type": "code",
   "execution_count": 0,
   "metadata": {
    "application/vnd.databricks.v1+cell": {
     "cellMetadata": {
      "byteLimit": 2048000,
      "rowLimit": 10000
     },
     "inputWidgets": {},
     "nuid": "7b971dc0-bf77-4073-999a-f502f995c701",
     "showTitle": false,
     "title": ""
    }
   },
   "outputs": [],
   "source": [
    "from pyspark.sql import SparkSession"
   ]
  },
  {
   "cell_type": "code",
   "execution_count": 0,
   "metadata": {
    "application/vnd.databricks.v1+cell": {
     "cellMetadata": {
      "byteLimit": 2048000,
      "rowLimit": 10000
     },
     "inputWidgets": {},
     "nuid": "507e97c1-2bbf-4b04-a738-9dc311cbb1af",
     "showTitle": false,
     "title": ""
    }
   },
   "outputs": [],
   "source": [
    "spark = SparkSession.builder \\\n",
    "    .appName(\"PySpark Joins\") \\\n",
    "    .getOrCreate()"
   ]
  },
  {
   "cell_type": "code",
   "execution_count": 0,
   "metadata": {
    "application/vnd.databricks.v1+cell": {
     "cellMetadata": {
      "byteLimit": 2048000,
      "rowLimit": 10000
     },
     "inputWidgets": {},
     "nuid": "1bbd6201-e4d1-4c14-80de-43a023317d1d",
     "showTitle": false,
     "title": ""
    }
   },
   "outputs": [],
   "source": [
    "data1 = [(\"Alice\", 34), (\"Bob\", 45), (\"Charlie\", 28)]\n",
    "data2 = [(\"Alice\", \"Engineer\"), (\"Bob\", \"Doctor\"), (\"Dave\", \"Artist\")]"
   ]
  },
  {
   "cell_type": "code",
   "execution_count": 0,
   "metadata": {
    "application/vnd.databricks.v1+cell": {
     "cellMetadata": {
      "byteLimit": 2048000,
      "rowLimit": 10000
     },
     "inputWidgets": {},
     "nuid": "667da8b9-e753-484b-a2fd-708dedd220f0",
     "showTitle": false,
     "title": ""
    }
   },
   "outputs": [],
   "source": [
    "df1 = spark.createDataFrame(data1, [\"Name\", \"Age\"])\n",
    "df2 = spark.createDataFrame(data2, [\"Name\", \"Profession\"])"
   ]
  },
  {
   "cell_type": "markdown",
   "metadata": {
    "application/vnd.databricks.v1+cell": {
     "cellMetadata": {},
     "inputWidgets": {},
     "nuid": "6dcf3e5a-d4f5-4f11-90a8-71e4d2438d84",
     "showTitle": false,
     "title": ""
    }
   },
   "source": [
    "# Register DataFrames as temporary views\n"
   ]
  },
  {
   "cell_type": "code",
   "execution_count": 0,
   "metadata": {
    "application/vnd.databricks.v1+cell": {
     "cellMetadata": {
      "byteLimit": 2048000,
      "rowLimit": 10000
     },
     "inputWidgets": {},
     "nuid": "7e56ddc8-6ed4-4a86-8382-b5afbd48e172",
     "showTitle": false,
     "title": ""
    }
   },
   "outputs": [],
   "source": [
    "df1.createOrReplaceTempView(\"table1\")\n",
    "df2.createOrReplaceTempView(\"table2\")"
   ]
  },
  {
   "cell_type": "markdown",
   "metadata": {
    "application/vnd.databricks.v1+cell": {
     "cellMetadata": {},
     "inputWidgets": {},
     "nuid": "723513b6-03b6-4345-91b5-ed7666dbe38f",
     "showTitle": false,
     "title": ""
    }
   },
   "source": [
    "# Perform SparkSQL join"
   ]
  },
  {
   "cell_type": "code",
   "execution_count": 0,
   "metadata": {
    "application/vnd.databricks.v1+cell": {
     "cellMetadata": {
      "byteLimit": 2048000,
      "rowLimit": 10000
     },
     "inputWidgets": {},
     "nuid": "c09bfd49-1933-42f2-a8fe-eed56303359b",
     "showTitle": false,
     "title": ""
    }
   },
   "outputs": [],
   "source": [
    "\n",
    "joined_df = spark.sql(\"\"\"\n",
    "    SELECT t1.Name, t1.Age, t2.Profession \n",
    "    FROM table1 t1\n",
    "    LEFT JOIN table2 t2 ON t1.Name = t2.Name\n",
    "\"\"\")\n"
   ]
  },
  {
   "cell_type": "code",
   "execution_count": 0,
   "metadata": {
    "application/vnd.databricks.v1+cell": {
     "cellMetadata": {
      "byteLimit": 2048000,
      "rowLimit": 10000
     },
     "inputWidgets": {},
     "nuid": "dc0ba3c1-c20d-488c-be5c-d0ebbdb250aa",
     "showTitle": false,
     "title": ""
    }
   },
   "outputs": [],
   "source": [
    "pandas_df = joined_df.toPandas()"
   ]
  },
  {
   "cell_type": "code",
   "execution_count": 0,
   "metadata": {
    "application/vnd.databricks.v1+cell": {
     "cellMetadata": {
      "byteLimit": 2048000,
      "rowLimit": 10000
     },
     "inputWidgets": {},
     "nuid": "ecd36d24-6632-406a-9cef-319a89c52fdd",
     "showTitle": false,
     "title": ""
    }
   },
   "outputs": [
    {
     "output_type": "stream",
     "name": "stdout",
     "output_type": "stream",
     "text": [
      "      Name  Age Profession\n0    Alice   34   Engineer\n1      Bob   45     Doctor\n2  Charlie   28       None\n"
     ]
    }
   ],
   "source": [
    "print(pandas_df)"
   ]
  },
  {
   "cell_type": "markdown",
   "metadata": {
    "application/vnd.databricks.v1+cell": {
     "cellMetadata": {
      "byteLimit": 2048000,
      "rowLimit": 10000
     },
     "inputWidgets": {},
     "nuid": "77ccb457-59ad-4889-a2f1-0c884a6a8705",
     "showTitle": false,
     "title": ""
    }
   },
   "source": [
    "#PYSPARK JOINS"
   ]
  },
  {
   "cell_type": "markdown",
   "metadata": {
    "application/vnd.databricks.v1+cell": {
     "cellMetadata": {},
     "inputWidgets": {},
     "nuid": "cd0ef4f9-470d-41ac-9b8e-17e12a20edb3",
     "showTitle": false,
     "title": ""
    }
   },
   "source": [
    "#Inner Join"
   ]
  },
  {
   "cell_type": "code",
   "execution_count": 0,
   "metadata": {
    "application/vnd.databricks.v1+cell": {
     "cellMetadata": {
      "byteLimit": 2048000,
      "rowLimit": 10000
     },
     "inputWidgets": {},
     "nuid": "d4330c3f-ba86-4458-8f00-25922a9f5dbc",
     "showTitle": false,
     "title": ""
    }
   },
   "outputs": [],
   "source": [
    "inner_join_df = df1.join(df2, on='Name', how='inner')"
   ]
  },
  {
   "cell_type": "code",
   "execution_count": 0,
   "metadata": {
    "application/vnd.databricks.v1+cell": {
     "cellMetadata": {
      "byteLimit": 2048000,
      "rowLimit": 10000
     },
     "inputWidgets": {},
     "nuid": "e51841d2-85ae-422c-9602-8c78262e669d",
     "showTitle": false,
     "title": ""
    }
   },
   "outputs": [
    {
     "output_type": "stream",
     "name": "stdout",
     "output_type": "stream",
     "text": [
      "Inner Join:\n+-----+---+----------+\n| Name|Age|Profession|\n+-----+---+----------+\n|Alice| 34|  Engineer|\n|  Bob| 45|    Doctor|\n+-----+---+----------+\n\n"
     ]
    }
   ],
   "source": [
    "print(\"Inner Join:\")\n",
    "inner_join_df.show()"
   ]
  },
  {
   "cell_type": "markdown",
   "metadata": {
    "application/vnd.databricks.v1+cell": {
     "cellMetadata": {},
     "inputWidgets": {},
     "nuid": "8b6f0d05-20b1-4572-85af-05a74bb5dbea",
     "showTitle": false,
     "title": ""
    }
   },
   "source": [
    "#Left Join\n"
   ]
  },
  {
   "cell_type": "code",
   "execution_count": 0,
   "metadata": {
    "application/vnd.databricks.v1+cell": {
     "cellMetadata": {
      "byteLimit": 2048000,
      "rowLimit": 10000
     },
     "inputWidgets": {},
     "nuid": "f900157e-51ca-417f-881f-24db780e7aab",
     "showTitle": false,
     "title": ""
    }
   },
   "outputs": [],
   "source": [
    "left_join_df = df1.join(df2, on='Name', how='left')"
   ]
  },
  {
   "cell_type": "code",
   "execution_count": 0,
   "metadata": {
    "application/vnd.databricks.v1+cell": {
     "cellMetadata": {
      "byteLimit": 2048000,
      "rowLimit": 10000
     },
     "inputWidgets": {},
     "nuid": "12a7a050-15ab-4373-9a2f-5f59d5459ab9",
     "showTitle": false,
     "title": ""
    }
   },
   "outputs": [
    {
     "output_type": "stream",
     "name": "stdout",
     "output_type": "stream",
     "text": [
      "Left Join:\n+-------+---+----------+\n|   Name|Age|Profession|\n+-------+---+----------+\n|  Alice| 34|  Engineer|\n|    Bob| 45|    Doctor|\n|Charlie| 28|      NULL|\n+-------+---+----------+\n\n"
     ]
    }
   ],
   "source": [
    "print(\"Left Join:\")\n",
    "left_join_df.show()"
   ]
  },
  {
   "cell_type": "markdown",
   "metadata": {
    "application/vnd.databricks.v1+cell": {
     "cellMetadata": {},
     "inputWidgets": {},
     "nuid": "43d9bcb1-d0a5-45b7-a36f-0c17e1020728",
     "showTitle": false,
     "title": ""
    }
   },
   "source": [
    "# Right Join"
   ]
  },
  {
   "cell_type": "code",
   "execution_count": 0,
   "metadata": {
    "application/vnd.databricks.v1+cell": {
     "cellMetadata": {
      "byteLimit": 2048000,
      "rowLimit": 10000
     },
     "inputWidgets": {},
     "nuid": "9684d2f1-564c-41d9-aecd-a7e79a6af041",
     "showTitle": false,
     "title": ""
    }
   },
   "outputs": [],
   "source": [
    "\n",
    "right_join_df = df1.join(df2, on='Name', how='right')"
   ]
  },
  {
   "cell_type": "code",
   "execution_count": 0,
   "metadata": {
    "application/vnd.databricks.v1+cell": {
     "cellMetadata": {
      "byteLimit": 2048000,
      "rowLimit": 10000
     },
     "inputWidgets": {},
     "nuid": "a952173e-1c07-48fd-9c1c-de2b62b9d037",
     "showTitle": false,
     "title": ""
    }
   },
   "outputs": [
    {
     "output_type": "stream",
     "name": "stdout",
     "output_type": "stream",
     "text": [
      "Right Join:\n+-----+----+----------+\n| Name| Age|Profession|\n+-----+----+----------+\n|Alice|  34|  Engineer|\n|  Bob|  45|    Doctor|\n| Dave|NULL|    Artist|\n+-----+----+----------+\n\n"
     ]
    }
   ],
   "source": [
    "print(\"Right Join:\")\n",
    "right_join_df.show()"
   ]
  },
  {
   "cell_type": "markdown",
   "metadata": {
    "application/vnd.databricks.v1+cell": {
     "cellMetadata": {
      "byteLimit": 2048000,
      "rowLimit": 10000
     },
     "inputWidgets": {},
     "nuid": "7c7131ac-2685-450d-840f-26dbb738868f",
     "showTitle": false,
     "title": ""
    }
   },
   "source": [
    "# Full Outer Join\n"
   ]
  },
  {
   "cell_type": "code",
   "execution_count": 0,
   "metadata": {
    "application/vnd.databricks.v1+cell": {
     "cellMetadata": {
      "byteLimit": 2048000,
      "rowLimit": 10000
     },
     "inputWidgets": {},
     "nuid": "ade334ec-fd01-4166-8e49-147b5a432698",
     "showTitle": false,
     "title": ""
    }
   },
   "outputs": [],
   "source": [
    "outer_join_df = df1.join(df2, on='Name', how='outer')"
   ]
  },
  {
   "cell_type": "code",
   "execution_count": 0,
   "metadata": {
    "application/vnd.databricks.v1+cell": {
     "cellMetadata": {
      "byteLimit": 2048000,
      "rowLimit": 10000
     },
     "inputWidgets": {},
     "nuid": "d1ad089d-d98a-4b8a-8f37-97b633335073",
     "showTitle": false,
     "title": ""
    }
   },
   "outputs": [
    {
     "output_type": "stream",
     "name": "stdout",
     "output_type": "stream",
     "text": [
      "Full Outer Join:\n+-------+----+----------+\n|   Name| Age|Profession|\n+-------+----+----------+\n|  Alice|  34|  Engineer|\n|    Bob|  45|    Doctor|\n|Charlie|  28|      NULL|\n|   Dave|NULL|    Artist|\n+-------+----+----------+\n\n"
     ]
    }
   ],
   "source": [
    "print(\"Full Outer Join:\")\n",
    "outer_join_df.show()"
   ]
  },
  {
   "cell_type": "markdown",
   "metadata": {
    "application/vnd.databricks.v1+cell": {
     "cellMetadata": {},
     "inputWidgets": {},
     "nuid": "5ae71511-1747-467d-b93e-8277e98951d4",
     "showTitle": false,
     "title": ""
    }
   },
   "source": [
    "# Semi Join\n"
   ]
  },
  {
   "cell_type": "code",
   "execution_count": 0,
   "metadata": {
    "application/vnd.databricks.v1+cell": {
     "cellMetadata": {
      "byteLimit": 2048000,
      "rowLimit": 10000
     },
     "inputWidgets": {},
     "nuid": "1e9c9840-a7b3-4e84-8263-00475dffd11c",
     "showTitle": false,
     "title": ""
    }
   },
   "outputs": [],
   "source": [
    "semi_join_df = df1.join(df2, on='Name', how='left_semi')"
   ]
  },
  {
   "cell_type": "code",
   "execution_count": 0,
   "metadata": {
    "application/vnd.databricks.v1+cell": {
     "cellMetadata": {
      "byteLimit": 2048000,
      "rowLimit": 10000
     },
     "inputWidgets": {},
     "nuid": "02f4be1d-91e1-4276-b599-2ab2a98dda75",
     "showTitle": false,
     "title": ""
    }
   },
   "outputs": [
    {
     "output_type": "stream",
     "name": "stdout",
     "output_type": "stream",
     "text": [
      "semi Join:\n+-----+---+\n| Name|Age|\n+-----+---+\n|Alice| 34|\n|  Bob| 45|\n+-----+---+\n\n"
     ]
    }
   ],
   "source": [
    "print(\"semi Join:\")\n",
    "semi_join_df.show()"
   ]
  },
  {
   "cell_type": "markdown",
   "metadata": {
    "application/vnd.databricks.v1+cell": {
     "cellMetadata": {},
     "inputWidgets": {},
     "nuid": "f0e9c2c5-b6c2-43b4-a9c7-f67467b99fcb",
     "showTitle": false,
     "title": ""
    }
   },
   "source": [
    "#Anti Join"
   ]
  },
  {
   "cell_type": "code",
   "execution_count": 0,
   "metadata": {
    "application/vnd.databricks.v1+cell": {
     "cellMetadata": {
      "byteLimit": 2048000,
      "rowLimit": 10000
     },
     "inputWidgets": {},
     "nuid": "4575deac-52f3-4113-9e1a-200d62232bd8",
     "showTitle": false,
     "title": ""
    }
   },
   "outputs": [],
   "source": [
    "anti_join_df = df1.join(df2, on='Name', how='left_anti')"
   ]
  },
  {
   "cell_type": "code",
   "execution_count": 0,
   "metadata": {
    "application/vnd.databricks.v1+cell": {
     "cellMetadata": {
      "byteLimit": 2048000,
      "rowLimit": 10000
     },
     "inputWidgets": {},
     "nuid": "88d96e4b-727f-4494-9f7b-02611b5d82e0",
     "showTitle": false,
     "title": ""
    }
   },
   "outputs": [
    {
     "output_type": "stream",
     "name": "stdout",
     "output_type": "stream",
     "text": [
      "Anti Join:\n+-------+---+\n|   Name|Age|\n+-------+---+\n|Charlie| 28|\n+-------+---+\n\n"
     ]
    }
   ],
   "source": [
    "print(\"Anti Join:\")\n",
    "anti_join_df.show()"
   ]
  },
  {
   "cell_type": "markdown",
   "metadata": {
    "application/vnd.databricks.v1+cell": {
     "cellMetadata": {},
     "inputWidgets": {},
     "nuid": "5078afc6-3e0d-41f7-9b26-63c829b11502",
     "showTitle": false,
     "title": ""
    }
   },
   "source": [
    "# Apply functions to Pandas DataFrame"
   ]
  },
  {
   "cell_type": "code",
   "execution_count": 0,
   "metadata": {
    "application/vnd.databricks.v1+cell": {
     "cellMetadata": {
      "byteLimit": 2048000,
      "rowLimit": 10000
     },
     "inputWidgets": {},
     "nuid": "72ee23b6-a2f4-4109-ba96-1bc5cbab09e2",
     "showTitle": false,
     "title": ""
    }
   },
   "outputs": [],
   "source": [
    "def process_age(age):\n",
    "    return age * 2"
   ]
  },
  {
   "cell_type": "code",
   "execution_count": 0,
   "metadata": {
    "application/vnd.databricks.v1+cell": {
     "cellMetadata": {
      "byteLimit": 2048000,
      "rowLimit": 10000
     },
     "inputWidgets": {},
     "nuid": "d91ab922-ec43-4689-855c-52511e3eee47",
     "showTitle": false,
     "title": ""
    }
   },
   "outputs": [],
   "source": [
    "pandas_df['Processed_Age'] = pandas_df['Age'].apply(process_age)"
   ]
  },
  {
   "cell_type": "code",
   "execution_count": 0,
   "metadata": {
    "application/vnd.databricks.v1+cell": {
     "cellMetadata": {
      "byteLimit": 2048000,
      "rowLimit": 10000
     },
     "inputWidgets": {},
     "nuid": "65180401-f980-42fe-8f51-369d1911b8af",
     "showTitle": false,
     "title": ""
    }
   },
   "outputs": [
    {
     "output_type": "stream",
     "name": "stdout",
     "output_type": "stream",
     "text": [
      "      Name  Age Profession  Processed_Age\n0    Alice   34   Engineer             68\n1      Bob   45     Doctor             90\n2  Charlie   28       None             56\n"
     ]
    }
   ],
   "source": [
    "print(pandas_df)"
   ]
  }
 ],
 "metadata": {
  "application/vnd.databricks.v1+notebook": {
   "dashboards": [],
   "language": "python",
   "notebookMetadata": {
    "pythonIndentUnit": 4
   },
   "notebookName": "CODINGCHALLENGE2",
   "widgets": {}
  }
 },
 "nbformat": 4,
 "nbformat_minor": 0
}
