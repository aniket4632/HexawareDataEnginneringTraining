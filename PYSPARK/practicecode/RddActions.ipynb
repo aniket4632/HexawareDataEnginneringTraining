{
 "cells": [
  {
   "cell_type": "markdown",
   "metadata": {
    "application/vnd.databricks.v1+cell": {
     "cellMetadata": {},
     "inputWidgets": {},
     "nuid": "0ad15acd-ab8a-4de4-a912-068a586fd938",
     "showTitle": false,
     "title": ""
    }
   },
   "source": [
    "Actions in PySpark RDDs"
   ]
  },
  {
   "cell_type": "code",
   "execution_count": 0,
   "metadata": {
    "application/vnd.databricks.v1+cell": {
     "cellMetadata": {
      "byteLimit": 2048000,
      "rowLimit": 10000
     },
     "inputWidgets": {},
     "nuid": "b9407a06-a379-43c6-97a4-06b80ad86367",
     "showTitle": false,
     "title": ""
    }
   },
   "outputs": [],
   "source": [
    "import pyspark"
   ]
  },
  {
   "cell_type": "code",
   "execution_count": 0,
   "metadata": {
    "application/vnd.databricks.v1+cell": {
     "cellMetadata": {
      "byteLimit": 2048000,
      "rowLimit": 10000
     },
     "inputWidgets": {},
     "nuid": "8a99e5c7-3670-4569-847d-73281475f791",
     "showTitle": false,
     "title": ""
    }
   },
   "outputs": [],
   "source": [
    "from pyspark import SparkContext"
   ]
  },
  {
   "cell_type": "code",
   "execution_count": 0,
   "metadata": {
    "application/vnd.databricks.v1+cell": {
     "cellMetadata": {
      "byteLimit": 2048000,
      "rowLimit": 10000
     },
     "inputWidgets": {},
     "nuid": "a1336e63-205f-4ea4-98c2-86724d092c47",
     "showTitle": false,
     "title": ""
    }
   },
   "outputs": [],
   "source": [
    "sc=SparkContext.getOrCreate()"
   ]
  },
  {
   "cell_type": "markdown",
   "metadata": {
    "application/vnd.databricks.v1+cell": {
     "cellMetadata": {},
     "inputWidgets": {},
     "nuid": "bea21b3f-12f5-469b-a5ce-607c4c57ed43",
     "showTitle": false,
     "title": ""
    }
   },
   "source": [
    "Collect Action()"
   ]
  },
  {
   "cell_type": "code",
   "execution_count": 0,
   "metadata": {
    "application/vnd.databricks.v1+cell": {
     "cellMetadata": {
      "byteLimit": 2048000,
      "rowLimit": 10000
     },
     "inputWidgets": {},
     "nuid": "8c327339-7183-4035-9623-fe8e559b4148",
     "showTitle": false,
     "title": ""
    }
   },
   "outputs": [
    {
     "output_type": "stream",
     "name": "stdout",
     "output_type": "stream",
     "text": [
      "Out[4]: [1, 2, 3, 4, 5]"
     ]
    }
   ],
   "source": [
    "collect_rdd = sc.parallelize([1,2,3,4,5])\n",
    "collect_rdd.collect()"
   ]
  },
  {
   "cell_type": "markdown",
   "metadata": {
    "application/vnd.databricks.v1+cell": {
     "cellMetadata": {},
     "inputWidgets": {},
     "nuid": "6f0b11a0-ce0e-4add-bde4-5d396ba218dc",
     "showTitle": false,
     "title": ""
    }
   },
   "source": [
    "Count Action"
   ]
  },
  {
   "cell_type": "code",
   "execution_count": 0,
   "metadata": {
    "application/vnd.databricks.v1+cell": {
     "cellMetadata": {
      "byteLimit": 2048000,
      "rowLimit": 10000
     },
     "inputWidgets": {},
     "nuid": "29d16c9c-e2f9-4f03-92eb-343712a533a6",
     "showTitle": false,
     "title": ""
    }
   },
   "outputs": [
    {
     "output_type": "stream",
     "name": "stdout",
     "output_type": "stream",
     "text": [
      "Out[10]: 10"
     ]
    }
   ],
   "source": [
    "count_rdd = sc.parallelize([1,2,3,4,5,5,6,7,8,9])\n",
    "\n",
    "count_rdd.count()"
   ]
  },
  {
   "cell_type": "markdown",
   "metadata": {
    "application/vnd.databricks.v1+cell": {
     "cellMetadata": {
      "byteLimit": 2048000,
      "rowLimit": 10000
     },
     "inputWidgets": {},
     "nuid": "51b13ef7-8570-4dc8-b42e-0a764a7a8b3d",
     "showTitle": false,
     "title": ""
    }
   },
   "source": [
    "First Action()"
   ]
  },
  {
   "cell_type": "code",
   "execution_count": 0,
   "metadata": {
    "application/vnd.databricks.v1+cell": {
     "cellMetadata": {
      "byteLimit": 2048000,
      "rowLimit": 10000
     },
     "inputWidgets": {},
     "nuid": "d691482b-7c3c-4ed3-9ce3-eec85c06b063",
     "showTitle": false,
     "title": ""
    }
   },
   "outputs": [
    {
     "output_type": "stream",
     "name": "stdout",
     "output_type": "stream",
     "text": [
      "Out[7]: 1"
     ]
    }
   ],
   "source": [
    "first_rdd = sc.parallelize([1,2,3,4,5,6,7,8,9,10])\n",
    "\n",
    "first_rdd.first()"
   ]
  },
  {
   "cell_type": "markdown",
   "metadata": {
    "application/vnd.databricks.v1+cell": {
     "cellMetadata": {},
     "inputWidgets": {},
     "nuid": "19a35c8e-43b7-4987-9ab3-4ad1144f0a02",
     "showTitle": false,
     "title": ""
    }
   },
   "source": [
    "Take Action ()"
   ]
  },
  {
   "cell_type": "code",
   "execution_count": 0,
   "metadata": {
    "application/vnd.databricks.v1+cell": {
     "cellMetadata": {
      "byteLimit": 2048000,
      "rowLimit": 10000
     },
     "inputWidgets": {},
     "nuid": "a60e5aff-a2e9-418d-8390-b658bd60d492",
     "showTitle": false,
     "title": ""
    }
   },
   "outputs": [
    {
     "output_type": "stream",
     "name": "stdout",
     "output_type": "stream",
     "text": [
      "Out[9]: [1, 2, 3]"
     ]
    }
   ],
   "source": [
    "take_rdd = sc.parallelize([1,2,3,4,5])\n",
    "take_rdd.take(3)"
   ]
  },
  {
   "cell_type": "markdown",
   "metadata": {
    "application/vnd.databricks.v1+cell": {
     "cellMetadata": {},
     "inputWidgets": {},
     "nuid": "1eb7fb0f-a144-409a-bbec-100b926fc444",
     "showTitle": false,
     "title": ""
    }
   },
   "source": [
    "Reduce Action()"
   ]
  },
  {
   "cell_type": "code",
   "execution_count": 0,
   "metadata": {
    "application/vnd.databricks.v1+cell": {
     "cellMetadata": {
      "byteLimit": 2048000,
      "rowLimit": 10000
     },
     "inputWidgets": {},
     "nuid": "7a3f0e40-6655-4495-837f-3fb05e606641",
     "showTitle": false,
     "title": ""
    }
   },
   "outputs": [
    {
     "output_type": "stream",
     "name": "stdout",
     "output_type": "stream",
     "text": [
      "14\n"
     ]
    }
   ],
   "source": [
    "reduce_rdd = sc.parallelize([1,3,4,6])\n",
    "\n",
    "print(reduce_rdd.reduce(lambda x, y : x + y))"
   ]
  },
  {
   "cell_type": "markdown",
   "metadata": {
    "application/vnd.databricks.v1+cell": {
     "cellMetadata": {},
     "inputWidgets": {},
     "nuid": "483dc6da-1cb2-4dd3-bab5-8be61b9f8b52",
     "showTitle": false,
     "title": ""
    }
   },
   "source": [
    ".SaveAsTextFile Action()"
   ]
  },
  {
   "cell_type": "code",
   "execution_count": 0,
   "metadata": {
    "application/vnd.databricks.v1+cell": {
     "cellMetadata": {
      "byteLimit": 2048000,
      "rowLimit": 10000
     },
     "inputWidgets": {},
     "nuid": "34be2219-9111-4f3f-9dcb-d9a317704770",
     "showTitle": false,
     "title": ""
    }
   },
   "outputs": [],
   "source": [
    "save_rdd = sc.parallelize([1,2,3,4,5,6])\n",
    "\n",
    "save_rdd.saveAsTextFile('file.txt')"
   ]
  },
  {
   "cell_type": "markdown",
   "metadata": {
    "application/vnd.databricks.v1+cell": {
     "cellMetadata": {},
     "inputWidgets": {},
     "nuid": "a03c8f19-a17c-4b2a-ac2e-403ccff4b63d",
     "showTitle": false,
     "title": ""
    }
   },
   "source": [
    "AGGREGATE ACTION()"
   ]
  },
  {
   "cell_type": "code",
   "execution_count": 0,
   "metadata": {
    "application/vnd.databricks.v1+cell": {
     "cellMetadata": {
      "byteLimit": 2048000,
      "rowLimit": 10000
     },
     "inputWidgets": {},
     "nuid": "0afb0d60-d7f6-4a37-b3b5-371e7de697a4",
     "showTitle": false,
     "title": ""
    }
   },
   "outputs": [
    {
     "output_type": "stream",
     "name": "stdout",
     "output_type": "stream",
     "text": [
      "Sum of squares: 55\n"
     ]
    }
   ],
   "source": [
    "agg_rdd= sc.parallelize([1, 2, 3, 4, 5])\n",
    "\n",
    "zero_value = 0  \n",
    "seq_op = lambda acc, x: acc + x**2\n",
    "comb_op = lambda acc1, acc2: acc1 + acc2  \n",
    "\n",
    "result = agg_rdd.aggregate(zero_value, seq_op, comb_op)\n",
    "\n",
    "print(\"Sum of squares:\", result)"
   ]
  },
  {
   "cell_type": "markdown",
   "metadata": {
    "application/vnd.databricks.v1+cell": {
     "cellMetadata": {},
     "inputWidgets": {},
     "nuid": "a74fb60f-64ac-4964-a1d8-4a8026a854b5",
     "showTitle": false,
     "title": ""
    }
   },
   "source": [
    "MAX ACTION()"
   ]
  },
  {
   "cell_type": "code",
   "execution_count": 0,
   "metadata": {
    "application/vnd.databricks.v1+cell": {
     "cellMetadata": {
      "byteLimit": 2048000,
      "rowLimit": 10000
     },
     "inputWidgets": {},
     "nuid": "a7a13e75-9ef4-47b9-8fac-38842aae791d",
     "showTitle": false,
     "title": ""
    }
   },
   "outputs": [
    {
     "output_type": "stream",
     "name": "stdout",
     "output_type": "stream",
     "text": [
      "Out[16]: 5"
     ]
    }
   ],
   "source": [
    "max_rdd= sc.parallelize([1, 2, 3, 4, 5])\n",
    "max_rdd.max()"
   ]
  },
  {
   "cell_type": "markdown",
   "metadata": {
    "application/vnd.databricks.v1+cell": {
     "cellMetadata": {},
     "inputWidgets": {},
     "nuid": "41af28fa-919c-4ed8-abfd-2395ef4d88ba",
     "showTitle": false,
     "title": ""
    }
   },
   "source": [
    "Min ACTION()"
   ]
  },
  {
   "cell_type": "code",
   "execution_count": 0,
   "metadata": {
    "application/vnd.databricks.v1+cell": {
     "cellMetadata": {
      "byteLimit": 2048000,
      "rowLimit": 10000
     },
     "inputWidgets": {},
     "nuid": "db2c3025-a832-4146-ae9b-39c716f3c813",
     "showTitle": false,
     "title": ""
    }
   },
   "outputs": [
    {
     "output_type": "stream",
     "name": "stdout",
     "output_type": "stream",
     "text": [
      "Out[17]: 1"
     ]
    }
   ],
   "source": [
    "min_rdd= sc.parallelize([1, 2, 3, 4, 5])\n",
    "min_rdd.min()"
   ]
  },
  {
   "cell_type": "markdown",
   "metadata": {
    "application/vnd.databricks.v1+cell": {
     "cellMetadata": {},
     "inputWidgets": {},
     "nuid": "beb32677-9afc-437b-be90-f25ebc9b4468",
     "showTitle": false,
     "title": ""
    }
   },
   "source": [
    "SUM ACTION()\n",
    "MEAN ACTION()\n",
    "VARIANCE ACTION()\n",
    "STDEV ACTION()"
   ]
  },
  {
   "cell_type": "code",
   "execution_count": 0,
   "metadata": {
    "application/vnd.databricks.v1+cell": {
     "cellMetadata": {
      "byteLimit": 2048000,
      "rowLimit": 10000
     },
     "inputWidgets": {},
     "nuid": "9903fd50-f3d8-4a11-9664-30a09018d2e3",
     "showTitle": false,
     "title": ""
    }
   },
   "outputs": [
    {
     "output_type": "stream",
     "name": "stdout",
     "output_type": "stream",
     "text": [
      "Mean: 3.9\nSum: 39\nVariance: 5.49\nStandard Deviation: 2.3430749027719964\n"
     ]
    }
   ],
   "source": [
    "rdd = sc.parallelize([3, 1, 4, 1, 5, 9, 2, 6, 5, 3])\n",
    "\n",
    "mean_value = rdd.mean()\n",
    "\n",
    "sum_value = rdd.sum()\n",
    "\n",
    "variance_value = rdd.variance()\n",
    "\n",
    "stdev_value = rdd.stdev()\n",
    "\n",
    "print(\"Mean:\", mean_value)\n",
    "print(\"Sum:\", sum_value)\n",
    "print(\"Variance:\", variance_value)\n",
    "print(\"Standard Deviation:\", stdev_value)"
   ]
  },
  {
   "cell_type": "markdown",
   "metadata": {
    "application/vnd.databricks.v1+cell": {
     "cellMetadata": {
      "byteLimit": 2048000,
      "rowLimit": 10000
     },
     "inputWidgets": {},
     "nuid": "08b4e220-8f00-4487-84c8-249b938f7ae4",
     "showTitle": false,
     "title": ""
    }
   },
   "source": [
    "SAMPLE VARIANCE() ACTION"
   ]
  },
  {
   "cell_type": "code",
   "execution_count": 0,
   "metadata": {
    "application/vnd.databricks.v1+cell": {
     "cellMetadata": {
      "byteLimit": 2048000,
      "rowLimit": 10000
     },
     "inputWidgets": {},
     "nuid": "010364da-effe-4c9a-b2ed-d84dc757dc68",
     "showTitle": false,
     "title": ""
    }
   },
   "outputs": [
    {
     "output_type": "stream",
     "name": "stdout",
     "output_type": "stream",
     "text": [
      "Out[20]: 6.1"
     ]
    }
   ],
   "source": [
    "rdd = sc.parallelize([3, 1, 4, 1, 5, 9, 2, 6, 5, 3])\n",
    "rdd.sampleVariance()"
   ]
  },
  {
   "cell_type": "markdown",
   "metadata": {
    "application/vnd.databricks.v1+cell": {
     "cellMetadata": {},
     "inputWidgets": {},
     "nuid": "5e1aff53-4ca7-4318-9455-4d0a58958bed",
     "showTitle": false,
     "title": ""
    }
   },
   "source": [
    "FOLD ACTION()"
   ]
  },
  {
   "cell_type": "code",
   "execution_count": 0,
   "metadata": {
    "application/vnd.databricks.v1+cell": {
     "cellMetadata": {
      "byteLimit": 2048000,
      "rowLimit": 10000
     },
     "inputWidgets": {},
     "nuid": "1ca96cf7-31f9-43db-8ed0-4f1382714700",
     "showTitle": false,
     "title": ""
    }
   },
   "outputs": [
    {
     "output_type": "stream",
     "name": "stdout",
     "output_type": "stream",
     "text": [
      "Total Sum: 21\n"
     ]
    }
   ],
   "source": [
    "data = sc.parallelize([1, 2, 3, 4, 5,6])\n",
    "\n",
    "def add(x, y):\n",
    "    return x + y\n",
    "total_sum = data.fold(0, add)\n",
    "\n",
    "print(\"Total Sum:\", total_sum)"
   ]
  },
  {
   "cell_type": "markdown",
   "metadata": {
    "application/vnd.databricks.v1+cell": {
     "cellMetadata": {
      "byteLimit": 2048000,
      "rowLimit": 10000
     },
     "inputWidgets": {},
     "nuid": "e3f01b10-4bf2-4bd8-81ca-adeaa5961b5c",
     "showTitle": false,
     "title": ""
    }
   },
   "source": [
    "TOP ACTION()"
   ]
  },
  {
   "cell_type": "code",
   "execution_count": 0,
   "metadata": {
    "application/vnd.databricks.v1+cell": {
     "cellMetadata": {
      "byteLimit": 2048000,
      "rowLimit": 10000
     },
     "inputWidgets": {},
     "nuid": "9c876c57-57ec-4d6e-b02c-c3106a946419",
     "showTitle": false,
     "title": ""
    }
   },
   "outputs": [
    {
     "output_type": "stream",
     "name": "stdout",
     "output_type": "stream",
     "text": [
      "Top 3 elements: [7, 6, 5]\n"
     ]
    }
   ],
   "source": [
    "data = sc.parallelize([5, 3, 7, 2, 1, 4, 6])\n",
    "\n",
    "top_elements = data.top(3)\n",
    "\n",
    "print(\"Top 3 elements:\", top_elements)"
   ]
  },
  {
   "cell_type": "markdown",
   "metadata": {
    "application/vnd.databricks.v1+cell": {
     "cellMetadata": {
      "byteLimit": 2048000,
      "rowLimit": 10000
     },
     "inputWidgets": {},
     "nuid": "62de6ae0-948d-4855-922b-0d1757cc333e",
     "showTitle": false,
     "title": ""
    }
   },
   "source": [
    "takeSample() Action"
   ]
  },
  {
   "cell_type": "code",
   "execution_count": 0,
   "metadata": {
    "application/vnd.databricks.v1+cell": {
     "cellMetadata": {
      "byteLimit": 2048000,
      "rowLimit": 10000
     },
     "inputWidgets": {},
     "nuid": "2fab19a3-2ee7-4064-9f9a-b06461591cdd",
     "showTitle": false,
     "title": ""
    }
   },
   "outputs": [
    {
     "output_type": "stream",
     "name": "stdout",
     "output_type": "stream",
     "text": [
      "Sample with replacement: [21, 77, 52, 23, 46]\nSample without replacement: [1, 48, 56, 97, 92]\n"
     ]
    }
   ],
   "source": [
    "data = sc.parallelize(range(1, 101))  \n",
    "\n",
    "sample_without_replacement = data.takeSample(False, 5)\n",
    "\n",
    "sample_with_replacement = data.takeSample(True, 5)\n",
    "\n",
    "print(\"Sample with replacement:\", sample_with_replacement)\n",
    "print(\"Sample without replacement:\", sample_without_replacement)"
   ]
  },
  {
   "cell_type": "markdown",
   "metadata": {
    "application/vnd.databricks.v1+cell": {
     "cellMetadata": {},
     "inputWidgets": {},
     "nuid": "7719d3a8-b2a5-4e23-b9ec-dcf91c2463ce",
     "showTitle": false,
     "title": ""
    }
   },
   "source": [
    "TAKE ORDERED() ACTION"
   ]
  },
  {
   "cell_type": "code",
   "execution_count": 0,
   "metadata": {
    "application/vnd.databricks.v1+cell": {
     "cellMetadata": {
      "byteLimit": 2048000,
      "rowLimit": 10000
     },
     "inputWidgets": {},
     "nuid": "9dfb7b31-a875-4d34-8df3-99f833a0cfb7",
     "showTitle": false,
     "title": ""
    }
   },
   "outputs": [
    {
     "output_type": "stream",
     "name": "stdout",
     "output_type": "stream",
     "text": [
      "Top 3 elements in ascending order: [1, 2, 3]\nTop 3 elements in descending order: [5, 4, 3]\n"
     ]
    }
   ],
   "source": [
    "data = sc.parallelize([5, 1, 3, 2, 4])  \n",
    "\n",
    "top_asc = data.takeOrdered(3)\n",
    "\n",
    "top_desc = data.takeOrdered(3, key=lambda x: -x)\n",
    "\n",
    "print(\"Top 3 elements in ascending order:\", top_asc)\n",
    "print(\"Top 3 elements in descending order:\", top_desc)"
   ]
  },
  {
   "cell_type": "markdown",
   "metadata": {
    "application/vnd.databricks.v1+cell": {
     "cellMetadata": {},
     "inputWidgets": {},
     "nuid": "77d02781-9713-4098-8628-da32b320a621",
     "showTitle": false,
     "title": ""
    }
   },
   "source": [
    "count Aprrox()"
   ]
  },
  {
   "cell_type": "code",
   "execution_count": 0,
   "metadata": {
    "application/vnd.databricks.v1+cell": {
     "cellMetadata": {
      "byteLimit": 2048000,
      "rowLimit": 10000
     },
     "inputWidgets": {},
     "nuid": "0ac4598f-bc97-4f77-892c-c5b6eaa9f8d1",
     "showTitle": false,
     "title": ""
    }
   },
   "outputs": [
    {
     "output_type": "stream",
     "name": "stdout",
     "output_type": "stream",
     "text": [
      "Approximate Count: 5\n"
     ]
    }
   ],
   "source": [
    "data = sc.parallelize([1, 2, 3, 4, 5])\n",
    "approx_count = data.countApprox(1000)\n",
    "print(\"Approximate Count:\", approx_count)\n"
   ]
  },
  {
   "cell_type": "markdown",
   "metadata": {
    "application/vnd.databricks.v1+cell": {
     "cellMetadata": {},
     "inputWidgets": {},
     "nuid": "2e32cef4-f6dd-483e-8101-8243527b86ee",
     "showTitle": false,
     "title": ""
    }
   },
   "source": [
    "collectAsMap()"
   ]
  },
  {
   "cell_type": "code",
   "execution_count": 0,
   "metadata": {
    "application/vnd.databricks.v1+cell": {
     "cellMetadata": {
      "byteLimit": 2048000,
      "rowLimit": 10000
     },
     "inputWidgets": {},
     "nuid": "d1f085f0-4d94-45c2-b12b-e7de2f746d40",
     "showTitle": false,
     "title": ""
    }
   },
   "outputs": [
    {
     "output_type": "stream",
     "name": "stdout",
     "output_type": "stream",
     "text": [
      "Resulting Dictionary: {1: 'a', 2: 'b', 3: 'c', 4: 'd', 5: 'e'}\n"
     ]
    }
   ],
   "source": [
    "data = sc.parallelize([(1, 'a'), (2, 'b'), (3, 'c'), (4, 'd'), (5, 'e')])\n",
    "result_dict = data.collectAsMap()\n",
    "print(\"Resulting Dictionary:\", result_dict)\n"
   ]
  },
  {
   "cell_type": "markdown",
   "metadata": {
    "application/vnd.databricks.v1+cell": {
     "cellMetadata": {},
     "inputWidgets": {},
     "nuid": "651471b8-eab2-4e64-8904-6ded31014aa7",
     "showTitle": false,
     "title": ""
    }
   },
   "source": [
    "KEYS AND VALUES IN RDD"
   ]
  },
  {
   "cell_type": "code",
   "execution_count": 0,
   "metadata": {
    "application/vnd.databricks.v1+cell": {
     "cellMetadata": {
      "byteLimit": 2048000,
      "rowLimit": 10000
     },
     "inputWidgets": {},
     "nuid": "eedcc36d-e05d-4989-ad9a-4dde16c1de83",
     "showTitle": false,
     "title": ""
    }
   },
   "outputs": [
    {
     "output_type": "stream",
     "name": "stdout",
     "output_type": "stream",
     "text": [
      "Keys RDD: [1, 2, 3, 4, 5]\nValues RDD: ['a', 'b', 'c', 'd', 'e']\n"
     ]
    }
   ],
   "source": [
    "data = sc.parallelize([(1, 'a'), (2, 'b'), (3, 'c'), (4, 'd'), (5, 'e')])\n",
    "\n",
    "keys_rdd = data.keys()\n",
    "\n",
    "values_rdd = data.values()\n",
    "\n",
    "print(\"Keys RDD:\", keys_rdd.collect())\n",
    "\n",
    "print(\"Values RDD:\", values_rdd.collect())\n"
   ]
  }
 ],
 "metadata": {
  "application/vnd.databricks.v1+notebook": {
   "dashboards": [],
   "language": "python",
   "notebookMetadata": {
    "pythonIndentUnit": 4
   },
   "notebookName": "RddActions",
   "widgets": {}
  }
 },
 "nbformat": 4,
 "nbformat_minor": 0
}
