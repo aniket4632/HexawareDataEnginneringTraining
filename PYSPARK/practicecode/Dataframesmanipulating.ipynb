{
 "cells": [
  {
   "cell_type": "markdown",
   "metadata": {
    "application/vnd.databricks.v1+cell": {
     "cellMetadata": {
      "byteLimit": 2048000,
      "rowLimit": 10000
     },
     "inputWidgets": {},
     "nuid": "489c00c2-ee09-4657-b17d-f28cb468c04c",
     "showTitle": false,
     "title": ""
    }
   },
   "source": [
    "GroupBy and Aggregate function:"
   ]
  },
  {
   "cell_type": "code",
   "execution_count": 0,
   "metadata": {
    "application/vnd.databricks.v1+cell": {
     "cellMetadata": {
      "byteLimit": 2048000,
      "rowLimit": 10000
     },
     "inputWidgets": {},
     "nuid": "490214d0-4709-4724-ae0f-f73c0b3855d2",
     "showTitle": false,
     "title": ""
    }
   },
   "outputs": [
    {
     "output_type": "display_data",
     "data": {
      "text/html": [
       "<style scoped>\n",
       "  .table-result-container {\n",
       "    max-height: 300px;\n",
       "    overflow: auto;\n",
       "  }\n",
       "  table, th, td {\n",
       "    border: 1px solid black;\n",
       "    border-collapse: collapse;\n",
       "  }\n",
       "  th, td {\n",
       "    padding: 5px;\n",
       "  }\n",
       "  th {\n",
       "    text-align: left;\n",
       "  }\n",
       "</style><div class='table-result-container'><table class='table-result'><thead style='background-color: white'><tr><th>name</th><th>id</th><th>age</th><th>department</th><th>salary</th></tr></thead><tbody><tr><td>user1</td><td>1</td><td>25</td><td>Jr manager</td><td>98000</td></tr><tr><td>user2</td><td>2</td><td>30</td><td>sr manager</td><td>100000</td></tr><tr><td>user3</td><td>6</td><td>35</td><td>sr manager</td><td>100000</td></tr><tr><td>user4</td><td>4</td><td>32</td><td>head</td><td>70000</td></tr><tr><td>user5</td><td>1</td><td>45</td><td>Jr manager</td><td>60000</td></tr><tr><td>user6</td><td>6</td><td>47</td><td>head2</td><td>45000</td></tr><tr><td>user7</td><td>5</td><td>21</td><td>worker</td><td>25000</td></tr><tr><td>user8</td><td>1</td><td>22</td><td>Jr manager</td><td>50000</td></tr><tr><td>user9</td><td>10</td><td>54</td><td>lead</td><td>45000</td></tr><tr><td>user10</td><td>59</td><td>52</td><td>lead2</td><td>50000</td></tr><tr><td>user11</td><td>6</td><td>25</td><td>head2</td><td>50000</td></tr><tr><td>user12</td><td>2</td><td>27</td><td>sr manager</td><td>70000</td></tr><tr><td>user13</td><td>59</td><td>54</td><td>lead2</td><td>45000</td></tr><tr><td>user14</td><td>2</td><td>25</td><td>sr manager</td><td>70000</td></tr><tr><td>user15</td><td>1</td><td>32</td><td>Jr manager</td><td>50000</td></tr><tr><td>user16</td><td>3</td><td>37</td><td>worker</td><td>25000</td></tr><tr><td>user17</td><td>74</td><td>63</td><td>Manager</td><td>68000</td></tr><tr><td>user18</td><td>7</td><td>25</td><td>head</td><td>45000</td></tr><tr><td>user19</td><td>10</td><td>32</td><td>lvl2 head</td><td>52000</td></tr><tr><td>user20</td><td>10</td><td>32</td><td>lvl2 head</td><td>52000</td></tr></tbody></table></div>"
      ]
     },
     "metadata": {
      "application/vnd.databricks.v1+output": {
       "addedWidgets": {},
       "aggData": [],
       "aggError": "",
       "aggOverflow": false,
       "aggSchema": [],
       "aggSeriesLimitReached": false,
       "aggType": "",
       "arguments": {},
       "columnCustomDisplayInfos": {},
       "data": [
        [
         "user1",
         1,
         25,
         "Jr manager",
         98000
        ],
        [
         "user2",
         2,
         30,
         "sr manager",
         100000
        ],
        [
         "user3",
         6,
         35,
         "sr manager",
         100000
        ],
        [
         "user4",
         4,
         32,
         "head",
         70000
        ],
        [
         "user5",
         1,
         45,
         "Jr manager",
         60000
        ],
        [
         "user6",
         6,
         47,
         "head2",
         45000
        ],
        [
         "user7",
         5,
         21,
         "worker",
         25000
        ],
        [
         "user8",
         1,
         22,
         "Jr manager",
         50000
        ],
        [
         "user9",
         10,
         54,
         "lead",
         45000
        ],
        [
         "user10",
         59,
         52,
         "lead2",
         50000
        ],
        [
         "user11",
         6,
         25,
         "head2",
         50000
        ],
        [
         "user12",
         2,
         27,
         "sr manager",
         70000
        ],
        [
         "user13",
         59,
         54,
         "lead2",
         45000
        ],
        [
         "user14",
         2,
         25,
         "sr manager",
         70000
        ],
        [
         "user15",
         1,
         32,
         "Jr manager",
         50000
        ],
        [
         "user16",
         3,
         37,
         "worker",
         25000
        ],
        [
         "user17",
         74,
         63,
         "Manager",
         68000
        ],
        [
         "user18",
         7,
         25,
         "head",
         45000
        ],
        [
         "user19",
         10,
         32,
         "lvl2 head",
         52000
        ],
        [
         "user20",
         10,
         32,
         "lvl2 head",
         52000
        ]
       ],
       "datasetInfos": [],
       "dbfsResultPath": null,
       "isJsonSchema": true,
       "metadata": {},
       "overflow": false,
       "plotOptions": {
        "customPlotOptions": {},
        "displayType": "table",
        "pivotAggregation": null,
        "pivotColumns": null,
        "xColumns": null,
        "yColumns": null
       },
       "removedWidgets": [],
       "schema": [
        {
         "metadata": "{}",
         "name": "name",
         "type": "\"string\""
        },
        {
         "metadata": "{}",
         "name": "id",
         "type": "\"integer\""
        },
        {
         "metadata": "{}",
         "name": "age",
         "type": "\"integer\""
        },
        {
         "metadata": "{}",
         "name": "department",
         "type": "\"string\""
        },
        {
         "metadata": "{}",
         "name": "salary",
         "type": "\"integer\""
        }
       ],
       "type": "table"
      }
     },
     "output_type": "display_data"
    }
   ],
   "source": [
    "from pyspark.sql import SparkSession\n",
    "spark =SparkSession.builder.appName(\"grouby\").getOrCreate()\n",
    "df_pyspark= spark.read.csv(\"/FileStore/tables/salary.csv\",header=True,inferSchema=True)\n",
    "df_pyspark.display()\n"
   ]
  },
  {
   "cell_type": "code",
   "execution_count": 0,
   "metadata": {
    "application/vnd.databricks.v1+cell": {
     "cellMetadata": {
      "byteLimit": 2048000,
      "rowLimit": 10000
     },
     "inputWidgets": {},
     "nuid": "9cbc6238-2278-4c12-a2a3-8aa0fb2eaa5f",
     "showTitle": false,
     "title": ""
    }
   },
   "outputs": [
    {
     "output_type": "stream",
     "name": "stdout",
     "output_type": "stream",
     "text": [
      "+----------+-----------+\n|department|sum(salary)|\n+----------+-----------+\n|Jr manager|     258000|\n|      head|     115000|\n|sr manager|     340000|\n|     head2|      95000|\n| lvl2 head|     104000|\n|      lead|      45000|\n|   Manager|      68000|\n|    worker|      50000|\n|     lead2|      95000|\n+----------+-----------+\n\n"
     ]
    }
   ],
   "source": [
    "df_pyspark.groupBy(\"department\").sum(\"salary\").show()"
   ]
  },
  {
   "cell_type": "code",
   "execution_count": 0,
   "metadata": {
    "application/vnd.databricks.v1+cell": {
     "cellMetadata": {
      "byteLimit": 2048000,
      "rowLimit": 10000
     },
     "inputWidgets": {},
     "nuid": "021fb384-7e7a-4250-a62d-5a8abaa00d61",
     "showTitle": true,
     "title": ""
    }
   },
   "outputs": [
    {
     "output_type": "stream",
     "name": "stdout",
     "output_type": "stream",
     "text": [
      "+----------+-----------+\n|department|min(salary)|\n+----------+-----------+\n|Jr manager|      50000|\n|      head|      45000|\n|sr manager|      70000|\n|     head2|      45000|\n| lvl2 head|      52000|\n|      lead|      45000|\n|   Manager|      68000|\n|    worker|      25000|\n|     lead2|      45000|\n+----------+-----------+\n\n"
     ]
    }
   ],
   "source": [
    "df_pyspark.groupBy(\"department\").min(\"salary\").show()"
   ]
  },
  {
   "cell_type": "code",
   "execution_count": 0,
   "metadata": {
    "application/vnd.databricks.v1+cell": {
     "cellMetadata": {
      "byteLimit": 2048000,
      "rowLimit": 10000
     },
     "inputWidgets": {},
     "nuid": "6172971c-0187-477f-9fa6-b6afae430acc",
     "showTitle": false,
     "title": ""
    }
   },
   "outputs": [
    {
     "output_type": "stream",
     "name": "stdout",
     "output_type": "stream",
     "text": [
      "+----------+-----------+\n|department|max(salary)|\n+----------+-----------+\n|Jr manager|      98000|\n|      head|      70000|\n|sr manager|     100000|\n|     head2|      50000|\n| lvl2 head|      52000|\n|      lead|      45000|\n|   Manager|      68000|\n|    worker|      25000|\n|     lead2|      50000|\n+----------+-----------+\n\n"
     ]
    }
   ],
   "source": [
    "df_pyspark.groupBy(\"department\").max(\"salary\").show()"
   ]
  },
  {
   "cell_type": "code",
   "execution_count": 0,
   "metadata": {
    "application/vnd.databricks.v1+cell": {
     "cellMetadata": {
      "byteLimit": 2048000,
      "rowLimit": 10000
     },
     "inputWidgets": {},
     "nuid": "f703eff0-bd2a-4b5b-b0f8-c65a02d3428f",
     "showTitle": false,
     "title": ""
    }
   },
   "outputs": [
    {
     "output_type": "stream",
     "name": "stdout",
     "output_type": "stream",
     "text": [
      "+----------+-----------+\n|department|avg(salary)|\n+----------+-----------+\n|Jr manager|    64500.0|\n|      head|    57500.0|\n|sr manager|    85000.0|\n|     head2|    47500.0|\n| lvl2 head|    52000.0|\n|      lead|    45000.0|\n|   Manager|    68000.0|\n|    worker|    25000.0|\n|     lead2|    47500.0|\n+----------+-----------+\n\n"
     ]
    }
   ],
   "source": [
    "df_pyspark.groupBy(\"department\").avg(\"salary\").show()"
   ]
  },
  {
   "cell_type": "code",
   "execution_count": 0,
   "metadata": {
    "application/vnd.databricks.v1+cell": {
     "cellMetadata": {
      "byteLimit": 2048000,
      "rowLimit": 10000
     },
     "inputWidgets": {},
     "nuid": "00fbd8a8-ddb1-46e5-b786-c5699817efe1",
     "showTitle": false,
     "title": ""
    }
   },
   "outputs": [
    {
     "output_type": "stream",
     "name": "stdout",
     "output_type": "stream",
     "text": [
      "+----------+-----------+\n|department|avg(salary)|\n+----------+-----------+\n|Jr manager|    64500.0|\n|      head|    57500.0|\n|sr manager|    85000.0|\n|     head2|    47500.0|\n| lvl2 head|    52000.0|\n|      lead|    45000.0|\n|   Manager|    68000.0|\n|    worker|    25000.0|\n|     lead2|    47500.0|\n+----------+-----------+\n\n"
     ]
    }
   ],
   "source": [
    "df_pyspark.groupBy(\"department\").mean(\"salary\").show()"
   ]
  },
  {
   "cell_type": "code",
   "execution_count": 0,
   "metadata": {
    "application/vnd.databricks.v1+cell": {
     "cellMetadata": {
      "byteLimit": 2048000,
      "rowLimit": 10000
     },
     "inputWidgets": {},
     "nuid": "37ab297c-0658-44e1-bf98-bd5fb5c0b30a",
     "showTitle": false,
     "title": ""
    }
   },
   "outputs": [
    {
     "output_type": "stream",
     "name": "stdout",
     "output_type": "stream",
     "text": [
      "+----------+-----+\n|department|count|\n+----------+-----+\n|Jr manager|    4|\n|      head|    2|\n|sr manager|    4|\n|     head2|    2|\n| lvl2 head|    2|\n|      lead|    1|\n|   Manager|    1|\n|    worker|    2|\n|     lead2|    2|\n+----------+-----+\n\n"
     ]
    }
   ],
   "source": [
    "df_pyspark.groupBy(\"department\").count().show()"
   ]
  },
  {
   "cell_type": "code",
   "execution_count": 0,
   "metadata": {
    "application/vnd.databricks.v1+cell": {
     "cellMetadata": {
      "byteLimit": 2048000,
      "rowLimit": 10000
     },
     "inputWidgets": {},
     "nuid": "bb8024f6-673a-4a58-84f8-849b046d9de1",
     "showTitle": false,
     "title": ""
    }
   },
   "outputs": [
    {
     "output_type": "stream",
     "name": "stdout",
     "output_type": "stream",
     "text": [
      "+-----------+\n|sum(salary)|\n+-----------+\n|    1170000|\n+-----------+\n\n"
     ]
    }
   ],
   "source": [
    "df_pyspark.agg(({\"salary\":\"sum\"})).show()"
   ]
  },
  {
   "cell_type": "markdown",
   "metadata": {
    "application/vnd.databricks.v1+cell": {
     "cellMetadata": {
      "byteLimit": 2048000,
      "rowLimit": 10000
     },
     "inputWidgets": {},
     "nuid": "afe49b20-333f-4661-be79-b270c9bccbe0",
     "showTitle": false,
     "title": ""
    }
   },
   "source": [
    "orderBy() and sort() in Pyspark DataFrame"
   ]
  },
  {
   "cell_type": "code",
   "execution_count": 0,
   "metadata": {
    "application/vnd.databricks.v1+cell": {
     "cellMetadata": {
      "byteLimit": 2048000,
      "rowLimit": 10000
     },
     "inputWidgets": {},
     "nuid": "23369bcb-0ebc-493f-a138-73eb31e8e4ed",
     "showTitle": false,
     "title": ""
    }
   },
   "outputs": [
    {
     "output_type": "stream",
     "name": "stdout",
     "output_type": "stream",
     "text": [
      "+------+---+---+----------+------+\n|  name| id|age|department|salary|\n+------+---+---+----------+------+\n| user7|  5| 21|    worker| 25000|\n|user16|  3| 37|    worker| 25000|\n| user6|  6| 47|     head2| 45000|\n| user9| 10| 54|      lead| 45000|\n|user13| 59| 54|     lead2| 45000|\n|user18|  7| 25|      head| 45000|\n| user8|  1| 22|Jr manager| 50000|\n|user10| 59| 52|     lead2| 50000|\n|user11|  6| 25|     head2| 50000|\n|user15|  1| 32|Jr manager| 50000|\n|user19| 10| 32| lvl2 head| 52000|\n|user20| 10| 32| lvl2 head| 52000|\n| user5|  1| 45|Jr manager| 60000|\n|user17| 74| 63|   Manager| 68000|\n| user4|  4| 32|      head| 70000|\n|user12|  2| 27|sr manager| 70000|\n|user14|  2| 25|sr manager| 70000|\n| user1|  1| 25|Jr manager| 98000|\n| user2|  2| 30|sr manager|100000|\n| user3|  6| 35|sr manager|100000|\n+------+---+---+----------+------+\n\n"
     ]
    }
   ],
   "source": [
    "df_pyspark.sort(\"salary\").show()"
   ]
  },
  {
   "cell_type": "code",
   "execution_count": 0,
   "metadata": {
    "application/vnd.databricks.v1+cell": {
     "cellMetadata": {
      "byteLimit": 2048000,
      "rowLimit": 10000
     },
     "inputWidgets": {},
     "nuid": "36fbb90c-5efe-467c-bc03-df6a4c2f2d81",
     "showTitle": false,
     "title": ""
    }
   },
   "outputs": [
    {
     "output_type": "stream",
     "name": "stdout",
     "output_type": "stream",
     "text": [
      "+------+---+---+----------+------+\n|  name| id|age|department|salary|\n+------+---+---+----------+------+\n| user7|  5| 21|    worker| 25000|\n|user16|  3| 37|    worker| 25000|\n| user6|  6| 47|     head2| 45000|\n| user9| 10| 54|      lead| 45000|\n|user13| 59| 54|     lead2| 45000|\n|user18|  7| 25|      head| 45000|\n| user8|  1| 22|Jr manager| 50000|\n|user10| 59| 52|     lead2| 50000|\n|user11|  6| 25|     head2| 50000|\n|user15|  1| 32|Jr manager| 50000|\n|user19| 10| 32| lvl2 head| 52000|\n|user20| 10| 32| lvl2 head| 52000|\n| user5|  1| 45|Jr manager| 60000|\n|user17| 74| 63|   Manager| 68000|\n| user4|  4| 32|      head| 70000|\n|user12|  2| 27|sr manager| 70000|\n|user14|  2| 25|sr manager| 70000|\n| user1|  1| 25|Jr manager| 98000|\n| user2|  2| 30|sr manager|100000|\n| user3|  6| 35|sr manager|100000|\n+------+---+---+----------+------+\n\n"
     ]
    }
   ],
   "source": [
    "df_pyspark.sort(\"salary\").show()\n"
   ]
  },
  {
   "cell_type": "code",
   "execution_count": 0,
   "metadata": {
    "application/vnd.databricks.v1+cell": {
     "cellMetadata": {
      "byteLimit": 2048000,
      "rowLimit": 10000
     },
     "inputWidgets": {},
     "nuid": "dfb7f649-37fe-4c2f-8687-4d3fa2334565",
     "showTitle": false,
     "title": ""
    }
   },
   "outputs": [
    {
     "output_type": "stream",
     "name": "stdout",
     "output_type": "stream",
     "text": [
      "+------+---+---+----------+------+\n|  name| id|age|department|salary|\n+------+---+---+----------+------+\n| user2|  2| 30|sr manager|100000|\n| user3|  6| 35|sr manager|100000|\n| user1|  1| 25|Jr manager| 98000|\n| user4|  4| 32|      head| 70000|\n|user12|  2| 27|sr manager| 70000|\n|user14|  2| 25|sr manager| 70000|\n|user17| 74| 63|   Manager| 68000|\n| user5|  1| 45|Jr manager| 60000|\n|user19| 10| 32| lvl2 head| 52000|\n|user20| 10| 32| lvl2 head| 52000|\n| user8|  1| 22|Jr manager| 50000|\n|user10| 59| 52|     lead2| 50000|\n|user11|  6| 25|     head2| 50000|\n|user15|  1| 32|Jr manager| 50000|\n| user6|  6| 47|     head2| 45000|\n| user9| 10| 54|      lead| 45000|\n|user13| 59| 54|     lead2| 45000|\n|user18|  7| 25|      head| 45000|\n| user7|  5| 21|    worker| 25000|\n|user16|  3| 37|    worker| 25000|\n+------+---+---+----------+------+\n\n"
     ]
    }
   ],
   "source": [
    "df_pyspark.sort(df_pyspark[\"salary\"].desc()).show()\n"
   ]
  },
  {
   "cell_type": "code",
   "execution_count": 0,
   "metadata": {
    "application/vnd.databricks.v1+cell": {
     "cellMetadata": {
      "byteLimit": 2048000,
      "rowLimit": 10000
     },
     "inputWidgets": {},
     "nuid": "9c7d3419-db81-4d38-8f6e-727893047b38",
     "showTitle": false,
     "title": ""
    }
   },
   "outputs": [
    {
     "output_type": "stream",
     "name": "stdout",
     "output_type": "stream",
     "text": [
      "+------+---+---+----------+------+\n|  name| id|age|department|salary|\n+------+---+---+----------+------+\n|user16|  3| 37|    worker| 25000|\n| user7|  5| 21|    worker| 25000|\n|user13| 59| 54|     lead2| 45000|\n|user18|  7| 25|      head| 45000|\n| user6|  6| 47|     head2| 45000|\n| user9| 10| 54|      lead| 45000|\n|user10| 59| 52|     lead2| 50000|\n|user11|  6| 25|     head2| 50000|\n|user15|  1| 32|Jr manager| 50000|\n| user8|  1| 22|Jr manager| 50000|\n|user19| 10| 32| lvl2 head| 52000|\n|user20| 10| 32| lvl2 head| 52000|\n| user5|  1| 45|Jr manager| 60000|\n|user17| 74| 63|   Manager| 68000|\n|user12|  2| 27|sr manager| 70000|\n|user14|  2| 25|sr manager| 70000|\n| user4|  4| 32|      head| 70000|\n| user1|  1| 25|Jr manager| 98000|\n| user2|  2| 30|sr manager|100000|\n| user3|  6| 35|sr manager|100000|\n+------+---+---+----------+------+\n\n"
     ]
    }
   ],
   "source": [
    "df_pyspark.sort(\"salary\",\"Name\").show()"
   ]
  },
  {
   "cell_type": "code",
   "execution_count": 0,
   "metadata": {
    "application/vnd.databricks.v1+cell": {
     "cellMetadata": {
      "byteLimit": 2048000,
      "rowLimit": 10000
     },
     "inputWidgets": {},
     "nuid": "6d541551-070c-4f9d-ae5b-fb8252c1b893",
     "showTitle": false,
     "title": ""
    }
   },
   "outputs": [
    {
     "output_type": "stream",
     "name": "stdout",
     "output_type": "stream",
     "text": [
      "+------+---+---+----------+------+\n|  name| id|age|department|salary|\n+------+---+---+----------+------+\n| user7|  5| 21|    worker| 25000|\n|user16|  3| 37|    worker| 25000|\n| user6|  6| 47|     head2| 45000|\n| user9| 10| 54|      lead| 45000|\n|user13| 59| 54|     lead2| 45000|\n|user18|  7| 25|      head| 45000|\n| user8|  1| 22|Jr manager| 50000|\n|user10| 59| 52|     lead2| 50000|\n|user11|  6| 25|     head2| 50000|\n|user15|  1| 32|Jr manager| 50000|\n|user19| 10| 32| lvl2 head| 52000|\n|user20| 10| 32| lvl2 head| 52000|\n| user5|  1| 45|Jr manager| 60000|\n|user17| 74| 63|   Manager| 68000|\n| user4|  4| 32|      head| 70000|\n|user12|  2| 27|sr manager| 70000|\n|user14|  2| 25|sr manager| 70000|\n| user1|  1| 25|Jr manager| 98000|\n| user2|  2| 30|sr manager|100000|\n| user3|  6| 35|sr manager|100000|\n+------+---+---+----------+------+\n\n"
     ]
    }
   ],
   "source": [
    "df_pyspark.orderBy(\"salary\").show()"
   ]
  },
  {
   "cell_type": "markdown",
   "metadata": {
    "application/vnd.databricks.v1+cell": {
     "cellMetadata": {
      "byteLimit": 2048000,
      "rowLimit": 10000
     },
     "inputWidgets": {},
     "nuid": "5ddd64b8-a7fb-4fdc-b58a-50e3530d9bea",
     "showTitle": false,
     "title": ""
    }
   },
   "source": [
    "join() using pyspark:"
   ]
  },
  {
   "cell_type": "code",
   "execution_count": 0,
   "metadata": {
    "application/vnd.databricks.v1+cell": {
     "cellMetadata": {
      "byteLimit": 2048000,
      "rowLimit": 10000
     },
     "inputWidgets": {},
     "nuid": "b84a14a2-6abe-43de-b3a5-1bd0ac2f9f94",
     "showTitle": false,
     "title": ""
    }
   },
   "outputs": [
    {
     "output_type": "stream",
     "name": "stdout",
     "output_type": "stream",
     "text": [
      "root\n |-- emp_id: long (nullable = true)\n |-- name: string (nullable = true)\n |-- superior_emp_id: long (nullable = true)\n |-- year_joined: string (nullable = true)\n |-- emp_dept_id: string (nullable = true)\n |-- gender: string (nullable = true)\n |-- salary: long (nullable = true)\n\n+------+--------+---------------+-----------+-----------+------+------+\n|emp_id|    name|superior_emp_id|year_joined|emp_dept_id|gender|salary|\n+------+--------+---------------+-----------+-----------+------+------+\n|     1|   Smith|           NULL|       2018|         10|     M|  3000|\n|     2|    Rose|              1|       2010|         20|     M|  4000|\n|     3|Williams|              1|       2010|         10|     M|  1000|\n|     4|   Jones|              2|       2005|         10|     F|  2000|\n|     5|   Brown|              2|       2010|         40|  NULL|  NULL|\n|     6|   Brown|              2|       2010|         50|  NULL|  NULL|\n+------+--------+---------------+-----------+-----------+------+------+\n\nroot\n |-- dept_name: string (nullable = true)\n |-- dept_id: long (nullable = true)\n\n+---------+-------+\n|dept_name|dept_id|\n+---------+-------+\n|  Finance|     10|\n|Marketing|     20|\n|    Sales|     30|\n|       IT|     40|\n+---------+-------+\n\n"
     ]
    }
   ],
   "source": [
    "from pyspark.sql import SparkSession\n",
    "\n",
    "spark = SparkSession.builder \\\n",
    "    .appName(\"Example\") \\\n",
    "    .getOrCreate()\n",
    "\n",
    "emp = [\n",
    "    (1, \"Smith\", None, \"2018\", \"10\", \"M\", 3000),\n",
    "    (2, \"Rose\", 1, \"2010\", \"20\", \"M\", 4000),\n",
    "    (3, \"Williams\", 1, \"2010\", \"10\", \"M\", 1000),\n",
    "    (4, \"Jones\", 2, \"2005\", \"10\", \"F\", 2000),\n",
    "    (5, \"Brown\", 2, \"2010\", \"40\", None, None),\n",
    "    (6, \"Brown\", 2, \"2010\", \"50\", None, None)\n",
    "]\n",
    "\n",
    "empColumns = [\"emp_id\", \"name\", \"superior_emp_id\", \"year_joined\", \"emp_dept_id\", \"gender\", \"salary\"]\n",
    "\n",
    "empDF = spark.createDataFrame(data=emp, schema=empColumns)\n",
    "empDF.printSchema()\n",
    "empDF.show()\n",
    "\n",
    "dept = [\n",
    "    (\"Finance\", 10),\n",
    "    (\"Marketing\", 20),\n",
    "    (\"Sales\", 30),\n",
    "    (\"IT\", 40)\n",
    "]\n",
    "\n",
    "deptColumns = [\"dept_name\", \"dept_id\"]\n",
    "deptDF = spark.createDataFrame(data=dept, schema=deptColumns)\n",
    "deptDF.printSchema()\n",
    "deptDF.show()\n"
   ]
  },
  {
   "cell_type": "markdown",
   "metadata": {
    "application/vnd.databricks.v1+cell": {
     "cellMetadata": {
      "byteLimit": 2048000,
      "rowLimit": 10000
     },
     "inputWidgets": {},
     "nuid": "706db3b6-ff27-437c-b6ff-830454966fb6",
     "showTitle": false,
     "title": ""
    }
   },
   "source": [
    "inner join"
   ]
  },
  {
   "cell_type": "code",
   "execution_count": 0,
   "metadata": {
    "application/vnd.databricks.v1+cell": {
     "cellMetadata": {
      "byteLimit": 2048000,
      "rowLimit": 10000
     },
     "inputWidgets": {},
     "nuid": "f55be63f-b9f7-4741-be82-eeedbad2224f",
     "showTitle": false,
     "title": ""
    }
   },
   "outputs": [
    {
     "output_type": "stream",
     "name": "stdout",
     "output_type": "stream",
     "text": [
      "+------+--------+---------------+-----------+-----------+------+------+---------+-------+\n|emp_id|    name|superior_emp_id|year_joined|emp_dept_id|gender|salary|dept_name|dept_id|\n+------+--------+---------------+-----------+-----------+------+------+---------+-------+\n|     1|   Smith|           NULL|       2018|         10|     M|  3000|  Finance|     10|\n|     3|Williams|              1|       2010|         10|     M|  1000|  Finance|     10|\n|     4|   Jones|              2|       2005|         10|     F|  2000|  Finance|     10|\n|     2|    Rose|              1|       2010|         20|     M|  4000|Marketing|     20|\n|     5|   Brown|              2|       2010|         40|  NULL|  NULL|       IT|     40|\n+------+--------+---------------+-----------+-----------+------+------+---------+-------+\n\n"
     ]
    }
   ],
   "source": [
    "empDF.join(deptDF,empDF.emp_dept_id ==  deptDF.dept_id,\"inner\") .show()"
   ]
  },
  {
   "cell_type": "code",
   "execution_count": 0,
   "metadata": {
    "application/vnd.databricks.v1+cell": {
     "cellMetadata": {
      "byteLimit": 2048000,
      "rowLimit": 10000
     },
     "inputWidgets": {},
     "nuid": "a80e8102-fd2d-42b6-94f8-577a1c8a4e00",
     "showTitle": false,
     "title": ""
    }
   },
   "outputs": [
    {
     "output_type": "display_data",
     "data": {
      "text/html": [
       "<style scoped>\n",
       "  .ansiout {\n",
       "    display: block;\n",
       "    unicode-bidi: embed;\n",
       "    white-space: pre-wrap;\n",
       "    word-wrap: break-word;\n",
       "    word-break: break-all;\n",
       "    font-family: \"Menlo\", \"Monaco\", \"Consolas\", \"Ubuntu Mono\", \"Source Code Pro\", monospace;\n",
       "    font-size: 13px;\n",
       "    color: #555;\n",
       "    margin-left: 4px;\n",
       "    line-height: 19px;\n",
       "  }\n",
       "</style>\n",
       "\u001B[0;36m  File \u001B[0;32m<command-4468145745969299>, line 1\u001B[0;36m\u001B[0m\n",
       "\u001B[0;31m    outer join or fullouter\u001B[0m\n",
       "\u001B[0m          ^\u001B[0m\n",
       "\u001B[0;31mSyntaxError\u001B[0m\u001B[0;31m:\u001B[0m invalid syntax"
      ]
     },
     "metadata": {
      "application/vnd.databricks.v1+output": {
       "arguments": {},
       "data": "\u001B[0;36m  File \u001B[0;32m<command-4468145745969299>, line 1\u001B[0;36m\u001B[0m\n\u001B[0;31m    outer join or fullouter\u001B[0m\n\u001B[0m          ^\u001B[0m\n\u001B[0;31mSyntaxError\u001B[0m\u001B[0;31m:\u001B[0m invalid syntax\n",
       "errorSummary": "<span class='ansi-red-fg'>SyntaxError</span>: invalid syntax (command-4468145745969299-2288938651, line 1)",
       "errorTraceType": "baseError",
       "metadata": {},
       "type": "ipynbError"
      }
     },
     "output_type": "display_data"
    }
   ],
   "source": [
    "outer join or fullouter"
   ]
  },
  {
   "cell_type": "code",
   "execution_count": 0,
   "metadata": {
    "application/vnd.databricks.v1+cell": {
     "cellMetadata": {
      "byteLimit": 2048000,
      "rowLimit": 10000
     },
     "inputWidgets": {},
     "nuid": "eef852be-4bb6-403a-92ba-7b910d5a42e6",
     "showTitle": false,
     "title": ""
    }
   },
   "outputs": [
    {
     "output_type": "display_data",
     "data": {
      "text/html": [
       "<style scoped>\n",
       "  .ansiout {\n",
       "    display: block;\n",
       "    unicode-bidi: embed;\n",
       "    white-space: pre-wrap;\n",
       "    word-wrap: break-word;\n",
       "    word-break: break-all;\n",
       "    font-family: \"Menlo\", \"Monaco\", \"Consolas\", \"Ubuntu Mono\", \"Source Code Pro\", monospace;\n",
       "    font-size: 13px;\n",
       "    color: #555;\n",
       "    margin-left: 4px;\n",
       "    line-height: 19px;\n",
       "  }\n",
       "</style>"
      ]
     },
     "metadata": {
      "application/vnd.databricks.v1+output": {
       "arguments": {},
       "data": "",
       "errorSummary": "Command skipped",
       "errorTraceType": "baseError",
       "metadata": {},
       "type": "ipynbError"
      }
     },
     "output_type": "display_data"
    }
   ],
   "source": [
    "empDF.join(deptDF,empDF.emp_dept_id ==  deptDF.dept_id,\"outer\").show()\n",
    "\n"
   ]
  },
  {
   "cell_type": "markdown",
   "metadata": {
    "application/vnd.databricks.v1+cell": {
     "cellMetadata": {
      "byteLimit": 2048000,
      "rowLimit": 10000
     },
     "inputWidgets": {},
     "nuid": "531d9128-eb28-4970-9525-f5a868bcd1cb",
     "showTitle": false,
     "title": ""
    }
   },
   "source": [
    "left join"
   ]
  },
  {
   "cell_type": "code",
   "execution_count": 0,
   "metadata": {
    "application/vnd.databricks.v1+cell": {
     "cellMetadata": {
      "byteLimit": 2048000,
      "rowLimit": 10000
     },
     "inputWidgets": {},
     "nuid": "3ba4e0e1-e746-4636-9d45-d6bd30004d62",
     "showTitle": false,
     "title": ""
    }
   },
   "outputs": [
    {
     "output_type": "display_data",
     "data": {
      "text/html": [
       "<style scoped>\n",
       "  .ansiout {\n",
       "    display: block;\n",
       "    unicode-bidi: embed;\n",
       "    white-space: pre-wrap;\n",
       "    word-wrap: break-word;\n",
       "    word-break: break-all;\n",
       "    font-family: \"Menlo\", \"Monaco\", \"Consolas\", \"Ubuntu Mono\", \"Source Code Pro\", monospace;\n",
       "    font-size: 13px;\n",
       "    color: #555;\n",
       "    margin-left: 4px;\n",
       "    line-height: 19px;\n",
       "  }\n",
       "</style>"
      ]
     },
     "metadata": {
      "application/vnd.databricks.v1+output": {
       "arguments": {},
       "data": "",
       "errorSummary": "Command skipped",
       "errorTraceType": "baseError",
       "metadata": {},
       "type": "ipynbError"
      }
     },
     "output_type": "display_data"
    }
   ],
   "source": [
    "empDF.join(deptDF,empDF.emp_dept_id ==  deptDF.dept_id,\"left\").show()"
   ]
  },
  {
   "cell_type": "markdown",
   "metadata": {
    "application/vnd.databricks.v1+cell": {
     "cellMetadata": {
      "byteLimit": 2048000,
      "rowLimit": 10000
     },
     "inputWidgets": {},
     "nuid": "6b1eebea-730b-4ed7-b0a6-c25a5fc61e4d",
     "showTitle": false,
     "title": ""
    }
   },
   "source": [
    "right join"
   ]
  },
  {
   "cell_type": "code",
   "execution_count": 0,
   "metadata": {
    "application/vnd.databricks.v1+cell": {
     "cellMetadata": {
      "byteLimit": 2048000,
      "rowLimit": 10000
     },
     "inputWidgets": {},
     "nuid": "a8d85a81-319c-4830-b040-dc891435ce03",
     "showTitle": false,
     "title": ""
    }
   },
   "outputs": [
    {
     "output_type": "display_data",
     "data": {
      "text/html": [
       "<style scoped>\n",
       "  .ansiout {\n",
       "    display: block;\n",
       "    unicode-bidi: embed;\n",
       "    white-space: pre-wrap;\n",
       "    word-wrap: break-word;\n",
       "    word-break: break-all;\n",
       "    font-family: \"Menlo\", \"Monaco\", \"Consolas\", \"Ubuntu Mono\", \"Source Code Pro\", monospace;\n",
       "    font-size: 13px;\n",
       "    color: #555;\n",
       "    margin-left: 4px;\n",
       "    line-height: 19px;\n",
       "  }\n",
       "</style>"
      ]
     },
     "metadata": {
      "application/vnd.databricks.v1+output": {
       "arguments": {},
       "data": "",
       "errorSummary": "Command skipped",
       "errorTraceType": "baseError",
       "metadata": {},
       "type": "ipynbError"
      }
     },
     "output_type": "display_data"
    }
   ],
   "source": [
    "empDF.join(deptDF,empDF.emp_dept_id ==  deptDF.dept_id,\"right\").show()\n"
   ]
  },
  {
   "cell_type": "markdown",
   "metadata": {
    "application/vnd.databricks.v1+cell": {
     "cellMetadata": {
      "byteLimit": 2048000,
      "rowLimit": 10000
     },
     "inputWidgets": {},
     "nuid": "a3288b53-3dc4-4f63-8c7c-153d8a0560ae",
     "showTitle": false,
     "title": ""
    }
   },
   "source": [
    "left-semi"
   ]
  },
  {
   "cell_type": "code",
   "execution_count": 0,
   "metadata": {
    "application/vnd.databricks.v1+cell": {
     "cellMetadata": {
      "byteLimit": 2048000,
      "rowLimit": 10000
     },
     "inputWidgets": {},
     "nuid": "82ff52c4-19ca-42ca-b407-8dac4abcea85",
     "showTitle": false,
     "title": ""
    }
   },
   "outputs": [
    {
     "output_type": "display_data",
     "data": {
      "text/html": [
       "<style scoped>\n",
       "  .ansiout {\n",
       "    display: block;\n",
       "    unicode-bidi: embed;\n",
       "    white-space: pre-wrap;\n",
       "    word-wrap: break-word;\n",
       "    word-break: break-all;\n",
       "    font-family: \"Menlo\", \"Monaco\", \"Consolas\", \"Ubuntu Mono\", \"Source Code Pro\", monospace;\n",
       "    font-size: 13px;\n",
       "    color: #555;\n",
       "    margin-left: 4px;\n",
       "    line-height: 19px;\n",
       "  }\n",
       "</style>"
      ]
     },
     "metadata": {
      "application/vnd.databricks.v1+output": {
       "arguments": {},
       "data": "",
       "errorSummary": "Command skipped",
       "errorTraceType": "baseError",
       "metadata": {},
       "type": "ipynbError"
      }
     },
     "output_type": "display_data"
    }
   ],
   "source": [
    "empDF.join(deptDF,empDF.emp_dept_id ==  deptDF.dept_id,\"leftsemi\").show()\n"
   ]
  },
  {
   "cell_type": "markdown",
   "metadata": {
    "application/vnd.databricks.v1+cell": {
     "cellMetadata": {
      "byteLimit": 2048000,
      "rowLimit": 10000
     },
     "inputWidgets": {},
     "nuid": "4ab2171f-f270-48e8-b679-06071c6bb2d8",
     "showTitle": false,
     "title": ""
    }
   },
   "source": [
    "left-anti"
   ]
  },
  {
   "cell_type": "code",
   "execution_count": 0,
   "metadata": {
    "application/vnd.databricks.v1+cell": {
     "cellMetadata": {
      "byteLimit": 2048000,
      "rowLimit": 10000
     },
     "inputWidgets": {},
     "nuid": "7da5f57b-9f3d-455d-925f-696d85f7b885",
     "showTitle": false,
     "title": ""
    }
   },
   "outputs": [
    {
     "output_type": "display_data",
     "data": {
      "text/html": [
       "<style scoped>\n",
       "  .ansiout {\n",
       "    display: block;\n",
       "    unicode-bidi: embed;\n",
       "    white-space: pre-wrap;\n",
       "    word-wrap: break-word;\n",
       "    word-break: break-all;\n",
       "    font-family: \"Menlo\", \"Monaco\", \"Consolas\", \"Ubuntu Mono\", \"Source Code Pro\", monospace;\n",
       "    font-size: 13px;\n",
       "    color: #555;\n",
       "    margin-left: 4px;\n",
       "    line-height: 19px;\n",
       "  }\n",
       "</style>"
      ]
     },
     "metadata": {
      "application/vnd.databricks.v1+output": {
       "arguments": {},
       "data": "",
       "errorSummary": "Command skipped",
       "errorTraceType": "baseError",
       "metadata": {},
       "type": "ipynbError"
      }
     },
     "output_type": "display_data"
    }
   ],
   "source": [
    "empDF.join(deptDF,empDF.emp_dept_id ==  deptDF.dept_id,\"leftanti\").show()"
   ]
  },
  {
   "cell_type": "markdown",
   "metadata": {
    "application/vnd.databricks.v1+cell": {
     "cellMetadata": {},
     "inputWidgets": {},
     "nuid": "44b3140e-782c-4697-8cce-442068cf99fd",
     "showTitle": false,
     "title": ""
    }
   },
   "source": [
    "pivot"
   ]
  },
  {
   "cell_type": "code",
   "execution_count": 0,
   "metadata": {
    "application/vnd.databricks.v1+cell": {
     "cellMetadata": {
      "byteLimit": 2048000,
      "rowLimit": 10000
     },
     "inputWidgets": {},
     "nuid": "cc5af8b3-5bf1-40a3-b9cb-3fe7a542afbd",
     "showTitle": false,
     "title": ""
    }
   },
   "outputs": [
    {
     "output_type": "stream",
     "name": "stdout",
     "output_type": "stream",
     "text": [
      "+----------+-----+------+------+------+------+------+------+------+------+------+------+------+------+------+-----+-----+-----+-----+-----+-----+\n|department|user1|user10|user11|user12|user13|user14|user15|user16|user17|user18|user19| user2|user20| user3|user4|user5|user6|user7|user8|user9|\n+----------+-----+------+------+------+------+------+------+------+------+------+------+------+------+------+-----+-----+-----+-----+-----+-----+\n|Jr manager|98000|  NULL|  NULL|  NULL|  NULL|  NULL| 50000|  NULL|  NULL|  NULL|  NULL|  NULL|  NULL|  NULL| NULL|60000| NULL| NULL|50000| NULL|\n|      head| NULL|  NULL|  NULL|  NULL|  NULL|  NULL|  NULL|  NULL|  NULL| 45000|  NULL|  NULL|  NULL|  NULL|70000| NULL| NULL| NULL| NULL| NULL|\n|sr manager| NULL|  NULL|  NULL| 70000|  NULL| 70000|  NULL|  NULL|  NULL|  NULL|  NULL|100000|  NULL|100000| NULL| NULL| NULL| NULL| NULL| NULL|\n|     head2| NULL|  NULL| 50000|  NULL|  NULL|  NULL|  NULL|  NULL|  NULL|  NULL|  NULL|  NULL|  NULL|  NULL| NULL| NULL|45000| NULL| NULL| NULL|\n| lvl2 head| NULL|  NULL|  NULL|  NULL|  NULL|  NULL|  NULL|  NULL|  NULL|  NULL| 52000|  NULL| 52000|  NULL| NULL| NULL| NULL| NULL| NULL| NULL|\n|      lead| NULL|  NULL|  NULL|  NULL|  NULL|  NULL|  NULL|  NULL|  NULL|  NULL|  NULL|  NULL|  NULL|  NULL| NULL| NULL| NULL| NULL| NULL|45000|\n|   Manager| NULL|  NULL|  NULL|  NULL|  NULL|  NULL|  NULL|  NULL| 68000|  NULL|  NULL|  NULL|  NULL|  NULL| NULL| NULL| NULL| NULL| NULL| NULL|\n|     lead2| NULL| 50000|  NULL|  NULL| 45000|  NULL|  NULL|  NULL|  NULL|  NULL|  NULL|  NULL|  NULL|  NULL| NULL| NULL| NULL| NULL| NULL| NULL|\n|    worker| NULL|  NULL|  NULL|  NULL|  NULL|  NULL|  NULL| 25000|  NULL|  NULL|  NULL|  NULL|  NULL|  NULL| NULL| NULL| NULL|25000| NULL| NULL|\n+----------+-----+------+------+------+------+------+------+------+------+------+------+------+------+------+-----+-----+-----+-----+-----+-----+\n\n"
     ]
    }
   ],
   "source": [
    "df_pyspark.groupBy(\"department\").pivot(\"Name\").sum(\"salary\").show()"
   ]
  },
  {
   "cell_type": "code",
   "execution_count": 0,
   "metadata": {
    "application/vnd.databricks.v1+cell": {
     "cellMetadata": {},
     "inputWidgets": {},
     "nuid": "919c6fdd-ee50-484d-a6f8-9ebbaf5e27e0",
     "showTitle": false,
     "title": ""
    }
   },
   "outputs": [],
   "source": []
  },
  {
   "cell_type": "markdown",
   "metadata": {
    "application/vnd.databricks.v1+cell": {
     "cellMetadata": {},
     "inputWidgets": {},
     "nuid": "5badcd72-0bde-470d-9e6f-202cbba37c8a",
     "showTitle": false,
     "title": ""
    }
   },
   "source": [
    "**Handling Missing Values Pyspark**\n"
   ]
  },
  {
   "cell_type": "code",
   "execution_count": 0,
   "metadata": {
    "application/vnd.databricks.v1+cell": {
     "cellMetadata": {
      "byteLimit": 2048000,
      "rowLimit": 10000
     },
     "inputWidgets": {},
     "nuid": "5dba206b-11b1-4aef-9d87-cbc3ba557e6d",
     "showTitle": false,
     "title": ""
    }
   },
   "outputs": [
    {
     "output_type": "stream",
     "name": "stdout",
     "output_type": "stream",
     "text": [
      "+----------+----+----------+------+\n|      Name| age|Experience|Salary|\n+----------+----+----------+------+\n|     Krish|  31|        10| 30000|\n|Shudhanshu|  30|         8| 25000|\n|     Sunny|  29|         4| 20000|\n|      Paul|  24|         3| 20000|\n|    Harsha|  21|         1| 15000|\n|   Shubham|  23|         2| 18000|\n|    Mahesh|NULL|      NULL|  NULL|\n|      NULL|NULL|        10| 40000|\n|      NULL|  34|        10| 38000|\n|      NULL|NULL|      NULL|  NULL|\n|      NULL|  36|      NULL|  NULL|\n+----------+----+----------+------+\n\n"
     ]
    }
   ],
   "source": [
    "df_pyspark1=spark.read.csv(\"/FileStore/tables/test2.csv\",header=True,inferSchema=True)\n",
    "df_pyspark1.show()"
   ]
  },
  {
   "cell_type": "markdown",
   "metadata": {
    "application/vnd.databricks.v1+cell": {
     "cellMetadata": {},
     "inputWidgets": {},
     "nuid": "aa707dcd-4dbc-44ef-ab9c-badc4e367c2d",
     "showTitle": false,
     "title": ""
    }
   },
   "source": [
    "**Dropping rows based on null values**"
   ]
  },
  {
   "cell_type": "code",
   "execution_count": 0,
   "metadata": {
    "application/vnd.databricks.v1+cell": {
     "cellMetadata": {
      "byteLimit": 2048000,
      "rowLimit": 10000
     },
     "inputWidgets": {},
     "nuid": "41db55a6-80f2-48f0-9f6f-89a5acf384ab",
     "showTitle": false,
     "title": ""
    }
   },
   "outputs": [
    {
     "output_type": "stream",
     "name": "stdout",
     "output_type": "stream",
     "text": [
      "+----------+---+----------+------+\n|      Name|age|Experience|Salary|\n+----------+---+----------+------+\n|     Krish| 31|        10| 30000|\n|Shudhanshu| 30|         8| 25000|\n|     Sunny| 29|         4| 20000|\n|      Paul| 24|         3| 20000|\n|    Harsha| 21|         1| 15000|\n|   Shubham| 23|         2| 18000|\n+----------+---+----------+------+\n\n"
     ]
    }
   ],
   "source": [
    "df_pyspark1.na.drop().show()"
   ]
  },
  {
   "cell_type": "markdown",
   "metadata": {
    "application/vnd.databricks.v1+cell": {
     "cellMetadata": {},
     "inputWidgets": {},
     "nuid": "a52646d1-16a8-4e01-9152-89e6e8ea01b7",
     "showTitle": false,
     "title": ""
    }
   },
   "source": [
    "**drop() has the following parameters — how, thresh, and subset**\n"
   ]
  },
  {
   "cell_type": "code",
   "execution_count": 0,
   "metadata": {
    "application/vnd.databricks.v1+cell": {
     "cellMetadata": {
      "byteLimit": 2048000,
      "rowLimit": 10000
     },
     "inputWidgets": {},
     "nuid": "d25c8a18-1b25-44ec-999b-6752f437e002",
     "showTitle": false,
     "title": ""
    }
   },
   "outputs": [
    {
     "output_type": "stream",
     "name": "stdout",
     "output_type": "stream",
     "text": [
      "+----------+----+----------+------+\n|      Name| age|Experience|Salary|\n+----------+----+----------+------+\n|     Krish|  31|        10| 30000|\n|Shudhanshu|  30|         8| 25000|\n|     Sunny|  29|         4| 20000|\n|      Paul|  24|         3| 20000|\n|    Harsha|  21|         1| 15000|\n|   Shubham|  23|         2| 18000|\n|    Mahesh|NULL|      NULL|  NULL|\n|      NULL|NULL|        10| 40000|\n|      NULL|  34|        10| 38000|\n|      NULL|  36|      NULL|  NULL|\n+----------+----+----------+------+\n\n"
     ]
    }
   ],
   "source": [
    "df_pyspark1.na.drop(how=\"all\").show()"
   ]
  },
  {
   "cell_type": "code",
   "execution_count": 0,
   "metadata": {
    "application/vnd.databricks.v1+cell": {
     "cellMetadata": {
      "byteLimit": 2048000,
      "rowLimit": 10000
     },
     "inputWidgets": {},
     "nuid": "ef0b50a3-9a47-4e97-bf39-bab8671a8f48",
     "showTitle": false,
     "title": ""
    }
   },
   "outputs": [
    {
     "output_type": "stream",
     "name": "stdout",
     "output_type": "stream",
     "text": [
      "+----------+----+----------+------+\n|      Name| age|Experience|Salary|\n+----------+----+----------+------+\n|     Krish|  31|        10| 30000|\n|Shudhanshu|  30|         8| 25000|\n|     Sunny|  29|         4| 20000|\n|      Paul|  24|         3| 20000|\n|    Harsha|  21|         1| 15000|\n|   Shubham|  23|         2| 18000|\n|      NULL|NULL|        10| 40000|\n|      NULL|  34|        10| 38000|\n+----------+----+----------+------+\n\n"
     ]
    }
   ],
   "source": [
    "df_pyspark1.na.drop(how=\"any\",thresh=2).show() "
   ]
  },
  {
   "cell_type": "code",
   "execution_count": 0,
   "metadata": {
    "application/vnd.databricks.v1+cell": {
     "cellMetadata": {
      "byteLimit": 2048000,
      "rowLimit": 10000
     },
     "inputWidgets": {},
     "nuid": "f3b16692-efe2-4795-a0d5-6c4548514a4e",
     "showTitle": false,
     "title": ""
    }
   },
   "outputs": [
    {
     "output_type": "stream",
     "name": "stdout",
     "output_type": "stream",
     "text": [
      "+----------+----+----------+------+\n|      Name| age|Experience|Salary|\n+----------+----+----------+------+\n|     Krish|  31|        10| 30000|\n|Shudhanshu|  30|         8| 25000|\n|     Sunny|  29|         4| 20000|\n|      Paul|  24|         3| 20000|\n|    Harsha|  21|         1| 15000|\n|   Shubham|  23|         2| 18000|\n|      NULL|NULL|        10| 40000|\n|      NULL|  34|        10| 38000|\n+----------+----+----------+------+\n\n"
     ]
    }
   ],
   "source": [
    "df_pyspark1.na.drop(how=\"any\",subset=[\"salary\"]).show()"
   ]
  },
  {
   "cell_type": "markdown",
   "metadata": {
    "application/vnd.databricks.v1+cell": {
     "cellMetadata": {},
     "inputWidgets": {},
     "nuid": "b7894269-0933-4ba9-841c-563de8144561",
     "showTitle": false,
     "title": ""
    }
   },
   "source": [
    "**Filling missing values — Single Value**\n"
   ]
  },
  {
   "cell_type": "code",
   "execution_count": 0,
   "metadata": {
    "application/vnd.databricks.v1+cell": {
     "cellMetadata": {
      "byteLimit": 2048000,
      "rowLimit": 10000
     },
     "inputWidgets": {},
     "nuid": "821664ed-df5d-454d-9c7a-2ae0261a8d36",
     "showTitle": false,
     "title": ""
    }
   },
   "outputs": [
    {
     "output_type": "stream",
     "name": "stdout",
     "output_type": "stream",
     "text": [
      "+--------------+----+----------+------+\n|          Name| age|Experience|Salary|\n+--------------+----+----------+------+\n|         Krish|  31|        10| 30000|\n|    Shudhanshu|  30|         8| 25000|\n|         Sunny|  29|         4| 20000|\n|          Paul|  24|         3| 20000|\n|        Harsha|  21|         1| 15000|\n|       Shubham|  23|         2| 18000|\n|        Mahesh|NULL|      NULL|  NULL|\n|Missing Values|NULL|        10| 40000|\n|Missing Values|  34|        10| 38000|\n|Missing Values|NULL|      NULL|  NULL|\n|Missing Values|  36|      NULL|  NULL|\n+--------------+----+----------+------+\n\n"
     ]
    }
   ],
   "source": [
    "df_pyspark1.na.fill('Missing Values').show()"
   ]
  },
  {
   "cell_type": "code",
   "execution_count": 0,
   "metadata": {
    "application/vnd.databricks.v1+cell": {
     "cellMetadata": {
      "byteLimit": 2048000,
      "rowLimit": 10000
     },
     "inputWidgets": {},
     "nuid": "a6264eb4-3d69-4b8b-a5f2-36975068766c",
     "showTitle": false,
     "title": ""
    }
   },
   "outputs": [
    {
     "output_type": "stream",
     "name": "stdout",
     "output_type": "stream",
     "text": [
      "+----------+---+----------+------+\n|      Name|age|Experience|Salary|\n+----------+---+----------+------+\n|     Krish| 31|        10| 30000|\n|Shudhanshu| 30|         8| 25000|\n|     Sunny| 29|         4| 20000|\n|      Paul| 24|         3| 20000|\n|    Harsha| 21|         1| 15000|\n|   Shubham| 23|         2| 18000|\n|    Mahesh|  0|         0|     0|\n|      NULL|  0|        10| 40000|\n|      NULL| 34|        10| 38000|\n|      NULL|  0|         0|     0|\n|      NULL| 36|         0|     0|\n+----------+---+----------+------+\n\n"
     ]
    }
   ],
   "source": [
    "df_pyspark1.na.fill(0).show() "
   ]
  },
  {
   "cell_type": "markdown",
   "metadata": {
    "application/vnd.databricks.v1+cell": {
     "cellMetadata": {},
     "inputWidgets": {},
     "nuid": "0ba24101-8713-4f5f-8df2-c4bc2c31a0fe",
     "showTitle": false,
     "title": ""
    }
   },
   "source": [
    "**Filling missing values using Mean, Median, or Mode with help of the Imputer function**\n"
   ]
  },
  {
   "cell_type": "code",
   "execution_count": 0,
   "metadata": {
    "application/vnd.databricks.v1+cell": {
     "cellMetadata": {
      "byteLimit": 2048000,
      "rowLimit": 10000
     },
     "inputWidgets": {},
     "nuid": "f2fea6dc-f7d8-4d58-9e5d-6635eeb37d05",
     "showTitle": false,
     "title": ""
    }
   },
   "outputs": [],
   "source": [
    "from pyspark.ml.feature import Imputer\n",
    "imputer = Imputer(inputCols=[\"age\"],outputCols=[\"age_imputed\"]).setStrategy(\"mean\")"
   ]
  },
  {
   "cell_type": "code",
   "execution_count": 0,
   "metadata": {
    "application/vnd.databricks.v1+cell": {
     "cellMetadata": {
      "byteLimit": 2048000,
      "rowLimit": 10000
     },
     "inputWidgets": {},
     "nuid": "f982a348-935a-4ac6-85a8-fdd7ff0b59ca",
     "showTitle": false,
     "title": ""
    }
   },
   "outputs": [
    {
     "output_type": "stream",
     "name": "stdout",
     "output_type": "stream",
     "text": [
      "+----------+----+----------+------+-----------+\n|      Name| age|Experience|Salary|age_imputed|\n+----------+----+----------+------+-----------+\n|     Krish|  31|        10| 30000|         31|\n|Shudhanshu|  30|         8| 25000|         30|\n|     Sunny|  29|         4| 20000|         29|\n|      Paul|  24|         3| 20000|         24|\n|    Harsha|  21|         1| 15000|         21|\n|   Shubham|  23|         2| 18000|         23|\n|    Mahesh|NULL|      NULL|  NULL|         28|\n|      NULL|NULL|        10| 40000|         28|\n|      NULL|  34|        10| 38000|         34|\n|      NULL|NULL|      NULL|  NULL|         28|\n|      NULL|  36|      NULL|  NULL|         36|\n+----------+----+----------+------+-----------+\n\n"
     ]
    }
   ],
   "source": [
    "imputer.fit(df_pyspark1).transform(df_pyspark1).show()"
   ]
  },
  {
   "cell_type": "markdown",
   "metadata": {
    "application/vnd.databricks.v1+cell": {
     "cellMetadata": {},
     "inputWidgets": {},
     "nuid": "59d21550-c7d5-41a6-9799-2d7b1e549d55",
     "showTitle": false,
     "title": ""
    }
   },
   "source": [
    "**Union() using pyspark**\n",
    "\n",
    "To merge two or more dataframes of same schema or structure union() is used.\n"
   ]
  },
  {
   "cell_type": "code",
   "execution_count": 0,
   "metadata": {
    "application/vnd.databricks.v1+cell": {
     "cellMetadata": {
      "byteLimit": 2048000,
      "rowLimit": 10000
     },
     "inputWidgets": {},
     "nuid": "aa9e12e9-4d05-4f56-8394-ba48c2b0b5ec",
     "showTitle": false,
     "title": ""
    }
   },
   "outputs": [
    {
     "output_type": "stream",
     "name": "stdout",
     "output_type": "stream",
     "text": [
      "+------------+------------------+\n|Student Name|Overall Percentage|\n+------------+------------------+\n|   Bhuwanesh|             82.98|\n|     Harshit|             80.31|\n|      Naveen|            91.123|\n|      Piyush|             90.51|\n+------------+------------------+\n\n"
     ]
    }
   ],
   "source": [
    "data_frame1 = spark.createDataFrame( \n",
    "    [(\"Bhuwanesh\", 82.98), (\"Harshit\", 80.31)], \n",
    "    [\"Student Name\", \"Overall Percentage\"] \n",
    ") \n",
    "data_frame2 = spark.createDataFrame( \n",
    "    [(\"Naveen\", 91.123), (\"Piyush\", 90.51)], \n",
    "    [\"Student Name\", \"Overall Percentage\"] \n",
    ") \n",
    "\n",
    "answer = data_frame1.union(data_frame2) \n",
    "\n",
    "answer.show() "
   ]
  },
  {
   "cell_type": "markdown",
   "metadata": {
    "application/vnd.databricks.v1+cell": {
     "cellMetadata": {},
     "inputWidgets": {},
     "nuid": "60cc7556-7375-4bc8-8d4d-0648c8ccf20e",
     "showTitle": false,
     "title": ""
    }
   },
   "source": [
    "**UnionAll()  in PySpark**\n",
    "\n"
   ]
  },
  {
   "cell_type": "code",
   "execution_count": 0,
   "metadata": {
    "application/vnd.databricks.v1+cell": {
     "cellMetadata": {
      "byteLimit": 2048000,
      "rowLimit": 10000
     },
     "inputWidgets": {},
     "nuid": "9b41c54b-7c30-432f-ba7d-b1b82a31b814",
     "showTitle": false,
     "title": ""
    }
   },
   "outputs": [
    {
     "output_type": "stream",
     "name": "stdout",
     "output_type": "stream",
     "text": [
      "+------------+------------------+\n|Student Name|Overall Percentage|\n+------------+------------------+\n|   Bhuwanesh|             82.98|\n|     Harshit|             80.31|\n|      Naveen|            91.123|\n|      Piyush|             90.51|\n+------------+------------------+\n\n"
     ]
    }
   ],
   "source": [
    "answer = data_frame1.unionAll(data_frame2) \n",
    "  \n",
    "# Print the union of both the dataframes \n",
    "answer.show() "
   ]
  },
  {
   "cell_type": "markdown",
   "metadata": {
    "application/vnd.databricks.v1+cell": {
     "cellMetadata": {},
     "inputWidgets": {},
     "nuid": "b592ecb0-4645-43bc-b3bd-fd43d7f9e93f",
     "showTitle": false,
     "title": ""
    }
   },
   "source": [
    "**Merge without Duplicates**\n",
    "\n",
    "Since the union() method returns all rows without distinct records, we will use\n",
    "t h**e distinct**() function to return just one record when a duplicate exists."
   ]
  },
  {
   "cell_type": "code",
   "execution_count": 0,
   "metadata": {
    "application/vnd.databricks.v1+cell": {
     "cellMetadata": {
      "byteLimit": 2048000,
      "rowLimit": 10000
     },
     "inputWidgets": {},
     "nuid": "fceb499a-4cc3-4633-badb-90612f1949d6",
     "showTitle": false,
     "title": ""
    }
   },
   "outputs": [
    {
     "output_type": "stream",
     "name": "stdout",
     "output_type": "stream",
     "text": [
      "root\n |-- employee_name: string (nullable = true)\n |-- department: string (nullable = true)\n |-- state: string (nullable = true)\n |-- salary: long (nullable = true)\n |-- age: long (nullable = true)\n |-- bonus: long (nullable = true)\n\n+-------------+----------+-----+------+---+-----+\n|employee_name|department|state|salary|age|bonus|\n+-------------+----------+-----+------+---+-----+\n|James        |Sales     |NY   |90000 |34 |10000|\n|Michael      |Sales     |NY   |86000 |56 |20000|\n|Robert       |Sales     |CA   |81000 |30 |23000|\n|Maria        |Finance   |CA   |90000 |24 |23000|\n+-------------+----------+-----+------+---+-----+\n\nroot\n |-- employee_name: string (nullable = true)\n |-- department: string (nullable = true)\n |-- state: string (nullable = true)\n |-- salary: long (nullable = true)\n |-- age: long (nullable = true)\n |-- bonus: long (nullable = true)\n\n+-------------+----------+-----+------+---+-----+\n|employee_name|department|state|salary|age|bonus|\n+-------------+----------+-----+------+---+-----+\n|James        |Sales     |NY   |90000 |34 |10000|\n|Maria        |Finance   |CA   |90000 |24 |23000|\n|Jen          |Finance   |NY   |79000 |53 |15000|\n|Jeff         |Marketing |CA   |80000 |25 |18000|\n|Kumar        |Marketing |NY   |91000 |50 |21000|\n+-------------+----------+-----+------+---+-----+\n\n+-------------+----------+-----+------+---+-----+\n|employee_name|department|state|salary|age|bonus|\n+-------------+----------+-----+------+---+-----+\n|James        |Sales     |NY   |90000 |34 |10000|\n|Michael      |Sales     |NY   |86000 |56 |20000|\n|Robert       |Sales     |CA   |81000 |30 |23000|\n|Maria        |Finance   |CA   |90000 |24 |23000|\n|James        |Sales     |NY   |90000 |34 |10000|\n|Maria        |Finance   |CA   |90000 |24 |23000|\n|Jen          |Finance   |NY   |79000 |53 |15000|\n|Jeff         |Marketing |CA   |80000 |25 |18000|\n|Kumar        |Marketing |NY   |91000 |50 |21000|\n+-------------+----------+-----+------+---+-----+\n\n+-------------+----------+-----+------+---+-----+\n|employee_name|department|state|salary|age|bonus|\n+-------------+----------+-----+------+---+-----+\n|James        |Sales     |NY   |90000 |34 |10000|\n|Michael      |Sales     |NY   |86000 |56 |20000|\n|Robert       |Sales     |CA   |81000 |30 |23000|\n|Maria        |Finance   |CA   |90000 |24 |23000|\n|Jen          |Finance   |NY   |79000 |53 |15000|\n|Jeff         |Marketing |CA   |80000 |25 |18000|\n|Kumar        |Marketing |NY   |91000 |50 |21000|\n+-------------+----------+-----+------+---+-----+\n\n+-------------+----------+-----+------+---+-----+\n|employee_name|department|state|salary|age|bonus|\n+-------------+----------+-----+------+---+-----+\n|James        |Sales     |NY   |90000 |34 |10000|\n|Michael      |Sales     |NY   |86000 |56 |20000|\n|Robert       |Sales     |CA   |81000 |30 |23000|\n|Maria        |Finance   |CA   |90000 |24 |23000|\n|James        |Sales     |NY   |90000 |34 |10000|\n|Maria        |Finance   |CA   |90000 |24 |23000|\n|Jen          |Finance   |NY   |79000 |53 |15000|\n|Jeff         |Marketing |CA   |80000 |25 |18000|\n|Kumar        |Marketing |NY   |91000 |50 |21000|\n+-------------+----------+-----+------+---+-----+\n\n+-------------+----------+-----+------+---+-----+\n|employee_name|department|state|salary|age|bonus|\n+-------------+----------+-----+------+---+-----+\n|James        |Sales     |NY   |90000 |34 |10000|\n|Michael      |Sales     |NY   |86000 |56 |20000|\n|Robert       |Sales     |CA   |81000 |30 |23000|\n|Maria        |Finance   |CA   |90000 |24 |23000|\n|James        |Sales     |NY   |90000 |34 |10000|\n|Maria        |Finance   |CA   |90000 |24 |23000|\n|Jen          |Finance   |NY   |79000 |53 |15000|\n|Jeff         |Marketing |CA   |80000 |25 |18000|\n|Kumar        |Marketing |NY   |91000 |50 |21000|\n+-------------+----------+-----+------+---+-----+\n\n"
     ]
    }
   ],
   "source": [
    "simpleData = [(\"James\",\"Sales\",\"NY\",90000,34,10000), \\\n",
    "(\"Michael\",\"Sales\",\"NY\",86000,56,20000), \\\n",
    "(\"Robert\",\"Sales\",\"CA\",81000,30,23000), \\\n",
    "(\"Maria\",\"Finance\",\"CA\",90000,24,23000) \\\n",
    "]\n",
    "columns= [\"employee_name\",\"department\",\"state\",\"salary\",\"age\",\"bonus\"]\n",
    "df = spark.createDataFrame(data = simpleData, schema = columns)\n",
    "df.printSchema()\n",
    "df.show(truncate=False)\n",
    "simpleData2 = [(\"James\",\"Sales\",\"NY\",90000,34,10000), \\\n",
    "(\"Maria\",\"Finance\",\"CA\",90000,24,23000), \\\n",
    "(\"Jen\",\"Finance\",\"NY\",79000,53,15000), \\\n",
    "(\"Jeff\",\"Marketing\",\"CA\",80000,25,18000), \\\n",
    "(\"Kumar\",\"Marketing\",\"NY\",91000,50,21000) \\\n",
    "]\n",
    "columns2= [\"employee_name\",\"department\",\"state\",\"salary\",\"age\",\"bonus\"]\n",
    "df2 = spark.createDataFrame(data = simpleData2, schema = columns2)\n",
    "df2.printSchema()\n",
    "df2.show(truncate=False)\n",
    "unionDF = df.union(df2)\n",
    "unionDF.show(truncate=False)\n",
    "disDF = df.union(df2).distinct()\n",
    "disDF.show(truncate=False)\n",
    "unionAllDF = df.unionAll(df2)\n",
    "unionAllDF.show(truncate=False)\n",
    "unionAllDF.show(truncate=False)"
   ]
  }
 ],
 "metadata": {
  "application/vnd.databricks.v1+notebook": {
   "dashboards": [],
   "language": "python",
   "notebookMetadata": {
    "pythonIndentUnit": 4
   },
   "notebookName": "Dataframesmanipulating",
   "widgets": {}
  }
 },
 "nbformat": 4,
 "nbformat_minor": 0
}
